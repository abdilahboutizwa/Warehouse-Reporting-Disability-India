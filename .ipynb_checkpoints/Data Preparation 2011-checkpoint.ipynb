{
 "cells": [
  {
   "cell_type": "code",
   "execution_count": 2,
   "metadata": {},
   "outputs": [],
   "source": [
    "from pandas import DataFrame, read_csv\n",
    "import matplotlib.pyplot as plt\n",
    "import pandas as pd\n",
    "import os"
   ]
  },
  {
   "cell_type": "code",
   "execution_count": 129,
   "metadata": {},
   "outputs": [
    {
     "data": {
      "text/plain": [
       "['DDW-C20-0100.xls',\n",
       " 'DDW-C20-0200.xls',\n",
       " 'DDW-C20-0300.xls',\n",
       " 'DDW-C20-0500.xls',\n",
       " 'DDW-C20-0600.xls',\n",
       " 'DDW-C20-0700.xls',\n",
       " 'DDW-C20-0800.xls',\n",
       " 'DDW-C20-0900.xls',\n",
       " 'DDW-C20-1000.xls',\n",
       " 'DDW-C20-1100.xls',\n",
       " 'DDW-C20-1200.xls',\n",
       " 'DDW-C20-1300.xls',\n",
       " 'DDW-C20-1400.xls',\n",
       " 'DDW-C20-1500.xls',\n",
       " 'DDW-C20-1600.xls',\n",
       " 'DDW-C20-1700.xls',\n",
       " 'DDW-C20-1800.xls',\n",
       " 'DDW-C20-1900.xls',\n",
       " 'DDW-C20-2000.xls',\n",
       " 'DDW-C20-2100.xls',\n",
       " 'DDW-C20-2200.xls',\n",
       " 'DDW-C20-2300.xls',\n",
       " 'DDW-C20-2400.xls',\n",
       " 'DDW-C20-2500.xls',\n",
       " 'DDW-C20-2600.xls',\n",
       " 'DDW-C20-2700.xls',\n",
       " 'DDW-C20-2800.xls',\n",
       " 'DDW-C20-2900.xls',\n",
       " 'DDW-C20-3000.xls',\n",
       " 'DDW-C20-3100.xls',\n",
       " 'DDW-C20-3200.xls',\n",
       " 'DDW-C20-3300.xls',\n",
       " 'DDW-C20-3400.xls',\n",
       " 'DDW-C20-3500.xls']"
      ]
     },
     "execution_count": 129,
     "metadata": {},
     "output_type": "execute_result"
    }
   ],
   "source": [
    "os.listdir(\"./2011_Pre/\")"
   ]
  },
  {
   "cell_type": "code",
   "execution_count": 74,
   "metadata": {},
   "outputs": [],
   "source": [
    "def load_del40_deltot_save(filepath):\n",
    "    '''\n",
    "    This function loads files deletes all totals and saves files in new folder named cleaned\n",
    "    files named with state name\n",
    "    '''\n",
    "    rawdata = pd.read_excel(filepath)\n",
    "    State_Name = rawdata['Area Name  (4)'][1]\n",
    "    dropped40rows = rawdata[41:]\n",
    "    DroppedTtl_Ru_Ur = dropped40rows.drop(dropped40rows[dropped40rows[\"Total/Rural/Urban (5)\"] == \"Total\"].index)\n",
    "    droppedTotals = DroppedTtl_Ru_Ur.drop(DroppedTtl_Ru_Ur[DroppedTtl_Ru_Ur[\"Age-group (6)\"] == \"Total\"].index)\n",
    "        \n",
    "    \n",
    "    data = droppedTotals\n",
    "    \n",
    "    data['Mental - Males'] = data['Mental Illness Males (26)'] + data['Mental Retardation Males (23)']\n",
    "    data['Mental - Females'] = data['Mental Illness Females (27)'] + data['Mental Retardation Female (24)']\n",
    "    \n",
    "\n",
    "    columns = list(data.columns.values)\n",
    "    new_columns = ['Table Name', 'State Code', 'Distt.Code', 'Area Name', 'Total/Rural/Urban', 'Age-group', 'Total number of disabled persons Persons', 'Total number of disabled persons Males', 'Total number of disabled persons females', 'In seeing Persons Persons', 'In seeing - Males', 'In seeing - Females', 'In Hearing Persons Persons', 'In Hearing - Males', 'In Hearing - Females', 'In Speech Persons  Persons', 'In Speech - Males', 'In Speech - Females', 'In Movement Persons Persons', 'In Movement - Males', 'In Movement - Females', 'Mental Retardation Persons', 'Mental Retardation Males', 'Mental Retardation Female', 'Mental Illness Persons', 'Mental Illness Males', 'Mental Illness Females', 'Any Other Persons', 'Any Other Males', 'Any Other Females', 'Multiple Disability Persons', 'Multiple Disability Males', 'Multiple Disability Females']\n",
    "    \n",
    "    dictionary = dict(zip(columns, new_columns))\n",
    "    df = data.rename(columns=dictionary)\n",
    "    \n",
    "    df.drop('Total number of disabled persons Persons', axis=1, inplace=True)\n",
    "    df.drop('Total number of disabled persons Males', axis=1, inplace=True)\n",
    "    df.drop('Total number of disabled persons females', axis=1, inplace=True)\n",
    "    \n",
    "    df.drop('In seeing Persons Persons', axis=1, inplace=True)\n",
    "    df.drop('In Hearing Persons Persons', axis=1, inplace=True)\n",
    "    df.drop('In Speech Persons  Persons', axis=1, inplace=True)\n",
    "    df.drop('In Movement Persons Persons', axis=1, inplace=True)\n",
    "    \n",
    "    df.drop('Mental Retardation Persons', axis=1, inplace=True)\n",
    "    df.drop('Mental Retardation Males', axis=1, inplace=True)\n",
    "    df.drop('Mental Retardation Female', axis=1, inplace=True)\n",
    "    df.drop('Mental Illness Persons', axis=1, inplace=True)\n",
    "    df.drop('Mental Illness Males', axis=1, inplace=True)\n",
    "    df.drop('Mental Illness Females', axis=1, inplace=True)\n",
    "    \n",
    "    df.drop('Any Other Persons', axis=1, inplace=True)\n",
    "    df.drop('Any Other Males', axis=1, inplace=True)\n",
    "    \n",
    "    df.drop('Any Other Females', axis=1, inplace=True)\n",
    "    df.drop('Multiple Disability Persons', axis=1, inplace=True)\n",
    "    df.drop('Multiple Disability Males', axis=1, inplace=True)\n",
    "    df.drop('Multiple Disability Females', axis=1, inplace=True)\n",
    "    \n",
    "    savepath = r\"./2011_Cleaned/\"+ State_Name + \".csv\"\n",
    "    df.to_csv (savepath,index = False)"
   ]
  },
  {
   "cell_type": "code",
   "execution_count": 75,
   "metadata": {},
   "outputs": [
    {
     "name": "stdout",
     "output_type": "stream",
     "text": [
      "DDW-C20-0100.xls\n",
      "DDW-C20-0200.xls\n",
      "DDW-C20-0300.xls\n",
      "DDW-C20-0500.xls\n",
      "DDW-C20-0600.xls\n",
      "DDW-C20-0700.xls\n",
      "DDW-C20-0800.xls\n",
      "DDW-C20-0900.xls\n",
      "DDW-C20-1000.xls\n",
      "DDW-C20-1100.xls\n",
      "DDW-C20-1200.xls\n",
      "DDW-C20-1300.xls\n",
      "DDW-C20-1400.xls\n",
      "DDW-C20-1500.xls\n",
      "DDW-C20-1600.xls\n",
      "DDW-C20-1700.xls\n",
      "DDW-C20-1800.xls\n",
      "DDW-C20-1900.xls\n",
      "DDW-C20-2000.xls\n",
      "DDW-C20-2100.xls\n",
      "DDW-C20-2200.xls\n",
      "DDW-C20-2300.xls\n",
      "DDW-C20-2400.xls\n",
      "DDW-C20-2500.xls\n",
      "DDW-C20-2600.xls\n",
      "DDW-C20-2700.xls\n",
      "DDW-C20-2800.xls\n",
      "DDW-C20-2900.xls\n",
      "DDW-C20-3000.xls\n",
      "DDW-C20-3100.xls\n",
      "DDW-C20-3200.xls\n",
      "DDW-C20-3300.xls\n",
      "DDW-C20-3400.xls\n",
      "DDW-C20-3500.xls\n"
     ]
    }
   ],
   "source": [
    "import os\n",
    "filelist = os.listdir(\"./2011_Pre/\")\n",
    "\n",
    "for path in filelist:\n",
    "    print(path)\n",
    "    load_del40_deltot_save(\"./2011_Pre/\" + path)"
   ]
  },
  {
   "cell_type": "code",
   "execution_count": null,
   "metadata": {},
   "outputs": [],
   "source": []
  },
  {
   "cell_type": "code",
   "execution_count": 124,
   "metadata": {},
   "outputs": [],
   "source": [
    "def loadcleaned_savemksel(filepath):\n",
    "    \n",
    "    rawdata = pd.read_csv(filepath)\n",
    "    file_name = os.path.basename(filepath) \n",
    "    \n",
    "    RAW = rawdata[['State Code', 'Distt.Code', 'Area Name','Total/Rural/Urban', 'Age-group']]\n",
    "    State_Name = rawdata['Area Name'][1]\n",
    "    State_Name = State_Name[0:len(State_Name)-4]\n",
    "    \n",
    "    \n",
    "    #Adjusting State Name\n",
    "    for row in RAW.iterrows():\n",
    "        RAW['State'] = file_name[6:len(file_name)-4]\n",
    "    \n",
    "    RAW['City'] = RAW['Area Name'].apply((lambda x: str(x[9:len(x)])))\n",
    "\n",
    "    RAW.drop('Area Name', axis=1, inplace=True)    \n",
    "    \n",
    "    #Adjusting City Name Name\n",
    "    #for row in RAW.iterrows():\n",
    "     #   RAW['City'] = str(row[\"Area Name\"])[10:len(row['Area Name'])-4]\n",
    "        \n",
    "    '''\n",
    "        This cell input the RAW data that doesn't change & df['Type of disablity - In seeing - Females'] \n",
    "        Output DataFrame Disabled_Female_Seeing\n",
    "    '''\n",
    "    DATA = pd.DataFrame()\n",
    "\n",
    "    ColumnList = ['In seeing - Males'\n",
    "                  ,'In seeing - Females'\n",
    "                  ,'In Speech - Males'\n",
    "                  ,'In Speech - Females'\n",
    "                  ,'In Hearing - Males'\n",
    "                  ,'In Hearing - Females'\n",
    "                  ,'In Movement - Males'\n",
    "                  ,'In Movement - Females'\n",
    "                  ,'Mental - Males'\n",
    "                  ,'Mental - Females']\n",
    "\n",
    "    for col_name in ColumnList:\n",
    "        #Extracting Gender & Type from column name\n",
    "        \n",
    "        Rate = rawdata[col_name]\n",
    "        \n",
    "        l = col_name.split(' - ')\n",
    "        Disability_type = l[0]\n",
    "        Gender = l[1]\n",
    "        Gender = Gender[0:len(Gender)-1]\n",
    "        #Extracting Gender & Type from column name\n",
    "\n",
    "        New_Data = RAW.copy()\n",
    "        for row in New_Data.iterrows():\n",
    "            New_Data['Gender'] = Gender\n",
    "            New_Data['Type'] = Disability_type\n",
    "\n",
    "        New_Data['Rate'] = Rate\n",
    "        \n",
    "        frames = [DATA,New_Data]\n",
    "        DATA = pd.concat(frames)\n",
    "\n",
    "        savepath = r\"./2011_keseled/\" + file_name\n",
    "        \n",
    "        SAT = DATA.rename(columns={\"State Code\": \"State_Code\",\"Distt.Code\": \"District_Code\",\"Total/Rural/Urban\": \"Area_Type\", \"Age-group\": \"Age_Group\"})\n",
    "        SAT.to_csv (savepath,index = False)\n",
    "        \n",
    "    print(file_name + \" done\" )"
   ]
  },
  {
   "cell_type": "code",
   "execution_count": 125,
   "metadata": {},
   "outputs": [
    {
     "name": "stderr",
     "output_type": "stream",
     "text": [
      "C:\\Users\\Hidik\\Anaconda3\\lib\\site-packages\\ipykernel_launcher.py:13: SettingWithCopyWarning: \n",
      "A value is trying to be set on a copy of a slice from a DataFrame.\n",
      "Try using .loc[row_indexer,col_indexer] = value instead\n",
      "\n",
      "See the caveats in the documentation: http://pandas.pydata.org/pandas-docs/stable/indexing.html#indexing-view-versus-copy\n",
      "  del sys.path[0]\n",
      "C:\\Users\\Hidik\\Anaconda3\\lib\\site-packages\\ipykernel_launcher.py:15: SettingWithCopyWarning: \n",
      "A value is trying to be set on a copy of a slice from a DataFrame.\n",
      "Try using .loc[row_indexer,col_indexer] = value instead\n",
      "\n",
      "See the caveats in the documentation: http://pandas.pydata.org/pandas-docs/stable/indexing.html#indexing-view-versus-copy\n",
      "  from ipykernel import kernelapp as app\n"
     ]
    },
    {
     "name": "stdout",
     "output_type": "stream",
     "text": [
      "State-ANDAMAN & NICOBAR ISLANDS.csv done\n",
      "State-ANDHRA PRADESH.csv done\n",
      "State-ARUNACHAL PRADESH.csv done\n",
      "State-ASSAM.csv done\n",
      "State-BIHAR.csv done\n",
      "State-CHHATTISGARH.csv done\n",
      "State-DADRA & NAGAR HAVELI.csv done\n",
      "State-DAMAN & DIU.csv done\n",
      "State-GOA.csv done\n",
      "State-GUJARAT.csv done\n",
      "State-HARYANA.csv done\n",
      "State-HIMACHAL PRADESH.csv done\n",
      "State-JAMMU & KASHMIR.csv done\n",
      "State-JHARKHAND.csv done\n",
      "State-KARNATAKA.csv done\n",
      "State-KERALA.csv done\n",
      "State-LAKSHADWEEP.csv done\n",
      "State-MADHYA PRADESH.csv done\n",
      "State-MAHARASHTRA.csv done\n",
      "State-MANIPUR.csv done\n",
      "State-MEGHALAYA.csv done\n",
      "State-MIZORAM.csv done\n",
      "State-NAGALAND.csv done\n",
      "State-NCT OF DELHI.csv done\n",
      "State-ODISHA.csv done\n",
      "State-PUDUCHERRY.csv done\n",
      "State-PUNJAB.csv done\n",
      "State-RAJASTHAN.csv done\n",
      "State-SIKKIM.csv done\n",
      "State-TAMIL NADU.csv done\n",
      "State-TRIPURA.csv done\n",
      "State-UTTAR PRADESH.csv done\n",
      "State-UTTARAKHAND.csv done\n",
      "State-WEST BENGAL.csv done\n"
     ]
    }
   ],
   "source": [
    "filelist = list(filter(lambda x: '.csv' in x, os.listdir(\"./2011_Cleaned/\")))\n",
    "\n",
    "for path in filelist:\n",
    "    loadcleaned_savemksel(\"./2011_Cleaned/\" + path)"
   ]
  },
  {
   "cell_type": "code",
   "execution_count": null,
   "metadata": {},
   "outputs": [],
   "source": [
    "rawdata = pd.read_csv(\"./2011_keseled/State - BIHAR.csv\")"
   ]
  },
  {
   "cell_type": "code",
   "execution_count": 294,
   "metadata": {},
   "outputs": [
    {
     "data": {
      "text/plain": [
       "Index(['State Code', 'District Code', 'Area Name', 'Total/ Rural/ Urban',\n",
       "       'Age-group', 'Gender', 'Type', 'Rate'],\n",
       "      dtype='object')"
      ]
     },
     "execution_count": 294,
     "metadata": {},
     "output_type": "execute_result"
    }
   ],
   "source": [
    "rawdata.columns"
   ]
  },
  {
   "cell_type": "code",
   "execution_count": null,
   "metadata": {},
   "outputs": [],
   "source": []
  }
 ],
 "metadata": {
  "kernelspec": {
   "display_name": "Python 3",
   "language": "python",
   "name": "python3"
  },
  "language_info": {
   "codemirror_mode": {
    "name": "ipython",
    "version": 3
   },
   "file_extension": ".py",
   "mimetype": "text/x-python",
   "name": "python",
   "nbconvert_exporter": "python",
   "pygments_lexer": "ipython3",
   "version": "3.7.3"
  }
 },
 "nbformat": 4,
 "nbformat_minor": 4
}
