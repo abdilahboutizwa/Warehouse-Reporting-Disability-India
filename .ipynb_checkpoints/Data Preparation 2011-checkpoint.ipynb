{
 "cells": [
  {
   "cell_type": "code",
   "execution_count": 2,
   "metadata": {},
   "outputs": [],
   "source": [
    "from pandas import DataFrame, read_csv\n",
    "import matplotlib.pyplot as plt\n",
    "import pandas as pd\n",
    "import os"
   ]
  },
  {
   "cell_type": "code",
   "execution_count": 19,
   "metadata": {},
   "outputs": [
    {
     "data": {
      "text/plain": [
       "['DDW-C20-0100.xls',\n",
       " 'DDW-C20-0200.xls',\n",
       " 'DDW-C20-0300.xls',\n",
       " 'DDW-C20-0500.xls',\n",
       " 'DDW-C20-0600.xls',\n",
       " 'DDW-C20-0700.xls',\n",
       " 'DDW-C20-0800.xls',\n",
       " 'DDW-C20-0900.xls',\n",
       " 'DDW-C20-1000.xls',\n",
       " 'DDW-C20-1100.xls',\n",
       " 'DDW-C20-1200.xls',\n",
       " 'DDW-C20-1300.xls',\n",
       " 'DDW-C20-1400.xls',\n",
       " 'DDW-C20-1500.xls',\n",
       " 'DDW-C20-1600.xls',\n",
       " 'DDW-C20-1700.xls',\n",
       " 'DDW-C20-1800.xls',\n",
       " 'DDW-C20-1900.xls',\n",
       " 'DDW-C20-2000.xls',\n",
       " 'DDW-C20-2100.xls',\n",
       " 'DDW-C20-2200.xls',\n",
       " 'DDW-C20-2300.xls',\n",
       " 'DDW-C20-2400.xls',\n",
       " 'DDW-C20-2500.xls',\n",
       " 'DDW-C20-2600.xls',\n",
       " 'DDW-C20-2700.xls',\n",
       " 'DDW-C20-2800.xls',\n",
       " 'DDW-C20-2900.xls',\n",
       " 'DDW-C20-3000.xls',\n",
       " 'DDW-C20-3100.xls',\n",
       " 'DDW-C20-3200.xls',\n",
       " 'DDW-C20-3300.xls',\n",
       " 'DDW-C20-3400.xls',\n",
       " 'DDW-C20-3500.xls']"
      ]
     },
     "execution_count": 19,
     "metadata": {},
     "output_type": "execute_result"
    }
   ],
   "source": [
    "os.listdir(\"./2011_Pre/\")"
   ]
  },
  {
   "cell_type": "code",
   "execution_count": 27,
   "metadata": {},
   "outputs": [
    {
     "name": "stdout",
     "output_type": "stream",
     "text": [
      "['Table Name' 'State Code' 'Distt.Code' 'Area Name ' 'Total/Rural/Urban'\n",
      " 'Age-group' 'Total number of disabled persons Persons'\n",
      " 'Total number of disabled persons Males'\n",
      " 'Total number of disabled persons females' 'In seeing Persons Persons '\n",
      " 'In seeing Persons Males ' 'In seeing Persons Females '\n",
      " 'In Hearing Persons Persons ' 'In Hearing Persons Males '\n",
      " 'In Hearing Persons Females ' 'In Speech Persons  Persons '\n",
      " 'In Speech Males' 'In Speech Females' 'In Movement Persons Persons'\n",
      " 'In Movement Males' 'In Movement  Females' 'Mental Retardation Persons'\n",
      " 'Mental Retardation Males' 'Mental Retardation Female'\n",
      " 'Mental Illness Persons' 'Mental Illness Males' 'Mental Illness Females'\n",
      " 'Any Other Persons' 'Any Other Males' 'Any Other Females'\n",
      " 'Multiple Disability Persons' 'Multiple Disability Males'\n",
      " 'Multiple Disability Females' 'Type of disablity - Mental - Males'\n",
      " 'Type of disablity - Mental - Females']\n"
     ]
    }
   ],
   "source": [
    "filelist = list(filter(lambda x: '.xls' in x, os.listdir(\"./2011_Pre\")))\n",
    "columns = []\n",
    "for path in filelist:\n",
    "    df = pd.read_excel(\"./2011_pre/\" + path)\n",
    "    \n",
    "    df['Type of disablity - Mental - Males'] = df['Mental Illness Males (26)'] + df['Mental Retardation Males (23)']\n",
    "    df['Type of disablity - Mental - Females'] = df['Mental Illness Females (27)'] + df['Mental Retardation Female (24)']\n",
    "\n",
    "    columns = list(df.columns.values)\n",
    "    new_columns = ['Table Name', 'State Code', 'Distt.Code', 'Area Name ', 'Total/Rural/Urban', 'Age-group', 'Total number of disabled persons Persons', 'Total number of disabled persons Males', 'Total number of disabled persons females', 'In seeing Persons Persons ', 'In seeing Persons Males ', 'In seeing Persons Females ', 'In Hearing Persons Persons ', 'In Hearing Persons Males ', 'In Hearing Persons Females ', 'In Speech Persons  Persons ', 'In Speech Males', 'In Speech Females', 'In Movement Persons Persons', 'In Movement Males', 'In Movement  Females', 'Mental Retardation Persons', 'Mental Retardation Males', 'Mental Retardation Female', 'Mental Illness Persons', 'Mental Illness Males', 'Mental Illness Females', 'Any Other Persons', 'Any Other Males', 'Any Other Females', 'Multiple Disability Persons', 'Multiple Disability Males', 'Multiple Disability Females']\n",
    "    \n",
    "    dictionary = dict(zip(columns, new_columns))\n",
    "    \n",
    "    df = df.rename(columns=dictionary)\n",
    "    print(df.columns.values)\n",
    "    #new_columns = list(map(lambda x: str(x[0:len(x)-4]),columns))\n",
    "    break\n"
   ]
  },
  {
   "cell_type": "code",
   "execution_count": 60,
   "metadata": {},
   "outputs": [],
   "source": [
    "def load_del40_deltot_save(filepath):\n",
    "    '''\n",
    "    This function loads files deletes all totals and saves files in new folder named cleaned\n",
    "    files named with state name\n",
    "    '''\n",
    "    rawdata = pd.read_excel(filepath)\n",
    "    State_Name = rawdata['Area Name  (4)'][1]\n",
    "    dropped40rows = rawdata[41:]\n",
    "    DroppedTtl_Ru_Ur = dropped40rows.drop(dropped40rows[dropped40rows[\"Total/Rural/Urban (5)\"] == \"Total\"].index)\n",
    "    droppedTotals = DroppedTtl_Ru_Ur.drop(DroppedTtl_Ru_Ur[DroppedTtl_Ru_Ur[\"Age-group (6)\"] == \"Total\"].index)\n",
    "        \n",
    "    \n",
    "    data = droppedTotals\n",
    "    \n",
    "    data['Mental Persons Males'] = data['Mental Illness Males (26)'] + data['Mental Retardation Males (23)']\n",
    "    data['Mental Persons Females'] = data['Mental Illness Females (27)'] + data['Mental Retardation Female (24)']\n",
    "    \n",
    "    \n",
    "   \n",
    "    \n",
    "\n",
    "    columns = list(data.columns.values)\n",
    "    new_columns = ['Table Name', 'State Code', 'Distt.Code', 'Area Name', 'Total/Rural/Urban', 'Age-group', 'Total number of disabled persons Persons', 'Total number of disabled persons Males', 'Total number of disabled persons females', 'In seeing Persons Persons', 'In seeing Persons Males', 'In seeing Persons Females', 'In Hearing Persons Persons', 'In Hearing Persons Males', 'In Hearing Persons Females', 'In Speech Persons  Persons', 'In Speech Males', 'In Speech Females', 'In Movement Persons Persons', 'In Movement Males', 'In Movement  Females', 'Mental Retardation Persons', 'Mental Retardation Males', 'Mental Retardation Female', 'Mental Illness Persons', 'Mental Illness Males', 'Mental Illness Females', 'Any Other Persons', 'Any Other Males', 'Any Other Females', 'Multiple Disability Persons', 'Multiple Disability Males', 'Multiple Disability Females']\n",
    "    \n",
    "    dictionary = dict(zip(columns, new_columns))\n",
    "    df = data.rename(columns=dictionary)\n",
    "    \n",
    "    df.drop('Total number of disabled persons Persons', axis=1, inplace=True)\n",
    "    df.drop('Total number of disabled persons Males', axis=1, inplace=True)\n",
    "    df.drop('Total number of disabled persons females', axis=1, inplace=True)\n",
    "    \n",
    "    df.drop('In seeing Persons Persons', axis=1, inplace=True)\n",
    "    df.drop('In seeing Persons Females', axis=1, inplace=True)\n",
    "    df.drop('In Hearing Persons Persons', axis=1, inplace=True)\n",
    "    df.drop('In Speech Persons  Persons', axis=1, inplace=True)\n",
    "    df.drop('In Movement Persons Persons', axis=1, inplace=True)\n",
    "    \n",
    "    df.drop('Mental Retardation Persons', axis=1, inplace=True)\n",
    "    df.drop('Mental Retardation Males', axis=1, inplace=True)\n",
    "    df.drop('Mental Retardation Female', axis=1, inplace=True)\n",
    "    \n",
    "    df.drop('Mental Illness Persons', axis=1, inplace=True)\n",
    "    df.drop('Mental Illness Males', axis=1, inplace=True)\n",
    "    df.drop('Mental Illness Females', axis=1, inplace=True)\n",
    "    df.drop('Any Other Persons', axis=1, inplace=True)\n",
    "    df.drop('Any Other Males', axis=1, inplace=True)\n",
    "    \n",
    "    df.drop('Any Other Females', axis=1, inplace=True)\n",
    "    df.drop('Multiple Disability Persons', axis=1, inplace=True)\n",
    "    df.drop('Multiple Disability Males', axis=1, inplace=True)\n",
    "    df.drop('Multiple Disability Females', axis=1, inplace=True)\n",
    "    \n",
    "    savepath = r\"./2011_Cleaned/\"+ State_Name + \".csv\"\n",
    "    df.to_csv (savepath,index = False)"
   ]
  },
  {
   "cell_type": "code",
   "execution_count": 61,
   "metadata": {},
   "outputs": [
    {
     "name": "stdout",
     "output_type": "stream",
     "text": [
      "DDW-C20-0100.xls\n",
      "DDW-C20-0200.xls\n",
      "DDW-C20-0300.xls\n",
      "DDW-C20-0500.xls\n",
      "DDW-C20-0600.xls\n",
      "DDW-C20-0700.xls\n",
      "DDW-C20-0800.xls\n",
      "DDW-C20-0900.xls\n",
      "DDW-C20-1000.xls\n",
      "DDW-C20-1100.xls\n",
      "DDW-C20-1200.xls\n",
      "DDW-C20-1300.xls\n",
      "DDW-C20-1400.xls\n",
      "DDW-C20-1500.xls\n",
      "DDW-C20-1600.xls\n",
      "DDW-C20-1700.xls\n",
      "DDW-C20-1800.xls\n",
      "DDW-C20-1900.xls\n",
      "DDW-C20-2000.xls\n",
      "DDW-C20-2100.xls\n",
      "DDW-C20-2200.xls\n",
      "DDW-C20-2300.xls\n",
      "DDW-C20-2400.xls\n",
      "DDW-C20-2500.xls\n",
      "DDW-C20-2600.xls\n",
      "DDW-C20-2700.xls\n",
      "DDW-C20-2800.xls\n",
      "DDW-C20-2900.xls\n",
      "DDW-C20-3000.xls\n",
      "DDW-C20-3100.xls\n",
      "DDW-C20-3200.xls\n",
      "DDW-C20-3300.xls\n",
      "DDW-C20-3400.xls\n",
      "DDW-C20-3500.xls\n"
     ]
    }
   ],
   "source": [
    "import os\n",
    "filelist = os.listdir(\"./2011_Pre/\")\n",
    "\n",
    "for path in filelist:\n",
    "    print(path)\n",
    "    load_del40_deltot_save(\"./2011_Pre/\" + path)"
   ]
  },
  {
   "cell_type": "code",
   "execution_count": null,
   "metadata": {},
   "outputs": [],
   "source": []
  },
  {
   "cell_type": "code",
   "execution_count": 6,
   "metadata": {},
   "outputs": [],
   "source": [
    "def loadcleaned_savemksel(filepath):\n",
    "    \n",
    "    rawdata = pd.read_csv(filepath)\n",
    "    file_name = os.path.basename(filepath) \n",
    "    \n",
    "    RAW = rawdata[['State Code', 'District Code', 'Area Name','Total/ Rural/ Urban', 'Age-group']]\n",
    "    State_Name = rawdata['Area Name'][1]\n",
    "    State_Name = State_Name[0:len(State_Name)-4]\n",
    "    \n",
    "    \n",
    "    #Adjusting State Name\n",
    "    for row in RAW.iterrows():\n",
    "        RAW['State'] = file_name[7:len(file_name)-4]\n",
    "    \n",
    "    RAW['City'] = RAW['Area Name'].apply((lambda x: str(x[10:len(x)-4])))\n",
    "    \n",
    "    RAW.drop('Area Name', axis=1, inplace=True)    \n",
    "    \n",
    "    #Adjusting City Name Name\n",
    "    #for row in RAW.iterrows():\n",
    "     #   RAW['City'] = str(row[\"Area Name\"])[10:len(row['Area Name'])-4]\n",
    "        \n",
    "    '''\n",
    "        This cell input the RAW data that doesn't change & df['Type of disablity - In seeing - Females'] \n",
    "        Output DataFrame Disabled_Female_Seeing\n",
    "    '''\n",
    "    DATA = pd.DataFrame()\n",
    "\n",
    "    ColumnList = ['Type of disablity - In seeing - Males'\n",
    "                  ,'Type of disablity - In seeing - Females'\n",
    "                  , 'Type of disablity - In speech - Males'\n",
    "                  ,'Type of disablity - In speech - Females'\n",
    "                  ,'Type of disablity - In hearing - Males'\n",
    "                  ,'Type of disablity - In hearing - Females'\n",
    "                  ,'Type of disablity - In movement - Males'\n",
    "                  ,'Type of disablity - In movement - Females'\n",
    "                  ,'Type of disablity - Mental - Males'\n",
    "                  ,'Type of disablity - Mental - Females']\n",
    "\n",
    "    for col_name in ColumnList:\n",
    "        #Extracting Gender & Type from column name\n",
    "        l = col_name.split(' - ')\n",
    "        Disability_type = l[1]\n",
    "        Gender = l[2]\n",
    "        Gender = Gender[0:len(Gender)-1]\n",
    "        #Extracting Gender & Type from column name\n",
    "\n",
    "\n",
    "        New_Data = RAW.copy()\n",
    "        for row in New_Data.iterrows():\n",
    "            New_Data['Gender'] = Gender\n",
    "            New_Data['Type'] = Disability_type\n",
    "\n",
    "        New_Data['Rate'] = rawdata[col_name]\n",
    "\n",
    "        frames = [DATA,New_Data]\n",
    "        DATA = pd.concat(frames)\n",
    "        \n",
    "        savepath = r\"./2001_keseled/\" + file_name\n",
    "        \n",
    "        SAT = DATA.rename(columns={\"State Code\": \"State_Code\",\"District Code\": \"District_Code\",\"Total/ Rural/ Urban\": \"Area_Type\", \"Age-group\": \"Age_Group\"})\n",
    "        SAT.to_csv (savepath,index = False)"
   ]
  },
  {
   "cell_type": "code",
   "execution_count": 7,
   "metadata": {},
   "outputs": [
    {
     "name": "stdout",
     "output_type": "stream",
     "text": [
      "State - ANDAMAN & NICOBAR ISLANDS.csv\n"
     ]
    },
    {
     "name": "stderr",
     "output_type": "stream",
     "text": [
      "C:\\Users\\Hidik\\Anaconda3\\lib\\site-packages\\ipykernel_launcher.py:13: SettingWithCopyWarning: \n",
      "A value is trying to be set on a copy of a slice from a DataFrame.\n",
      "Try using .loc[row_indexer,col_indexer] = value instead\n",
      "\n",
      "See the caveats in the documentation: http://pandas.pydata.org/pandas-docs/stable/indexing.html#indexing-view-versus-copy\n",
      "  del sys.path[0]\n",
      "C:\\Users\\Hidik\\Anaconda3\\lib\\site-packages\\ipykernel_launcher.py:15: SettingWithCopyWarning: \n",
      "A value is trying to be set on a copy of a slice from a DataFrame.\n",
      "Try using .loc[row_indexer,col_indexer] = value instead\n",
      "\n",
      "See the caveats in the documentation: http://pandas.pydata.org/pandas-docs/stable/indexing.html#indexing-view-versus-copy\n",
      "  from ipykernel import kernelapp as app\n"
     ]
    },
    {
     "name": "stdout",
     "output_type": "stream",
     "text": [
      "State - ANDHRA PRADESH.csv\n",
      "State - ARUNACHAL PRADESH.csv\n",
      "State - ASSAM.csv\n",
      "State - BIHAR.csv\n",
      "State - CHANDIGARH.csv\n",
      "State - CHHATTISGARH.csv\n",
      "State - DADRA & NAGAR HAVELI.csv\n",
      "State - DAMAN & DIU.csv\n",
      "State - DELHI.csv\n",
      "State - GOA.csv\n",
      "State - GUJARAT.csv\n",
      "State - HARYANA.csv\n",
      "State - HIMACHAL PRADESH.csv\n",
      "State - JAMMU & KASHMIR.csv\n",
      "State - JHARKHAND.csv\n",
      "State - KARNATAKA.csv\n",
      "State - KERALA.csv\n",
      "State - LAKSHADWEEP.csv\n",
      "State - MADHYA PRADESH.csv\n",
      "State - MAHARASHTRA.csv\n",
      "State - MANIPUR.csv\n",
      "State - MEGHALAYA.csv\n",
      "State - MIZORAM.csv\n",
      "State - NAGALAND.csv\n",
      "State - ORISSA.csv\n",
      "State - PONDICHERRY.csv\n",
      "State - PUNJAB.csv\n",
      "State - RAJASTHAN.csv\n",
      "State - SIKKIM.csv\n",
      "State - TAMIL NADU.csv\n",
      "State - TRIPURA.csv\n",
      "State - UTTAR PRADESH.csv\n",
      "State - UTTARANCHAL.csv\n",
      "State - WEST BENGAL.csv\n"
     ]
    }
   ],
   "source": [
    "filelist = list(filter(lambda x: '.csv' in x, os.listdir(\"./2011_Cleaned/\")))\n",
    "\n",
    "for path in filelist:\n",
    "    print(path)\n",
    "    loadcleaned_savemksel(\"./2011_Cleaned/\" + path)"
   ]
  },
  {
   "cell_type": "code",
   "execution_count": null,
   "metadata": {},
   "outputs": [],
   "source": [
    "rawdata = pd.read_csv(\"./2011_keseled/State - BIHAR.csv\")"
   ]
  },
  {
   "cell_type": "code",
   "execution_count": 294,
   "metadata": {},
   "outputs": [
    {
     "data": {
      "text/plain": [
       "Index(['State Code', 'District Code', 'Area Name', 'Total/ Rural/ Urban',\n",
       "       'Age-group', 'Gender', 'Type', 'Rate'],\n",
       "      dtype='object')"
      ]
     },
     "execution_count": 294,
     "metadata": {},
     "output_type": "execute_result"
    }
   ],
   "source": [
    "rawdata.columns"
   ]
  },
  {
   "cell_type": "code",
   "execution_count": null,
   "metadata": {},
   "outputs": [],
   "source": []
  }
 ],
 "metadata": {
  "kernelspec": {
   "display_name": "Python 3",
   "language": "python",
   "name": "python3"
  },
  "language_info": {
   "codemirror_mode": {
    "name": "ipython",
    "version": 3
   },
   "file_extension": ".py",
   "mimetype": "text/x-python",
   "name": "python",
   "nbconvert_exporter": "python",
   "pygments_lexer": "ipython3",
   "version": "3.7.3"
  }
 },
 "nbformat": 4,
 "nbformat_minor": 4
}
