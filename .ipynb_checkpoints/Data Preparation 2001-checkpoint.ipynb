{
 "cells": [
  {
   "cell_type": "code",
   "execution_count": 3,
   "metadata": {},
   "outputs": [],
   "source": [
    "from pandas import DataFrame, read_csv\n",
    "import matplotlib.pyplot as plt\n",
    "import pandas as pd\n",
    "import os"
   ]
  },
  {
   "cell_type": "code",
   "execution_count": 4,
   "metadata": {},
   "outputs": [],
   "source": [
    "def load_del40_deltot_save(filepath):\n",
    "    '''\n",
    "    This function loads files deletes all totals and saves files in new folder named cleaned\n",
    "    files named with state name\n",
    "    '''\n",
    "    rawdata = pd.read_excel(filepath)\n",
    "    \n",
    "    State_Name = rawdata['Area Name'][1]\n",
    "    State_Name = State_Name[0:len(State_Name)-4]\n",
    "    dropped40rows = rawdata[41:]\n",
    "    DroppedTtl_Ru_Ur = dropped40rows.drop(dropped40rows[dropped40rows[\"Total/ Rural/ Urban\"] == \"Total\"].index)\n",
    "    droppedTotals = DroppedTtl_Ru_Ur.drop(DroppedTtl_Ru_Ur[DroppedTtl_Ru_Ur[\"Age-group\"] == \"Total\"].index)\n",
    "        \n",
    "    \n",
    "    df = droppedTotals\n",
    "    \n",
    "    df.drop('Total disabled population - Persons', axis=1, inplace=True)\n",
    "    df.drop('Total disabled population - Males', axis=1, inplace=True)\n",
    "    df.drop('Total disabled population - Females', axis=1, inplace=True)\n",
    "    df.drop('Type of disablity - In seeing - Persons', axis=1, inplace=True)\n",
    "    df.drop('Type of disablity - In speech - Persons', axis=1, inplace=True)\n",
    "    df.drop('Type of disablity - In hearing - Persons', axis=1, inplace=True)\n",
    "    df.drop('Type of disablity - In movement - Persons', axis=1, inplace=True)\n",
    "    df.drop('Type of disablity - Mental - Persons', axis=1, inplace=True)\n",
    "    \n",
    "   \n",
    "    savepath = r\"./2001_Cleaned/\"+ State_Name + \".csv\"\n",
    "    df.to_csv (savepath,index = False)"
   ]
  },
  {
   "cell_type": "code",
   "execution_count": 5,
   "metadata": {},
   "outputs": [
    {
     "name": "stdout",
     "output_type": "stream",
     "text": [
      "DDWC-010020.xls\n",
      "DDWC-020020.xls\n",
      "DDWC-030020.xls\n",
      "DDWC-040020.xls\n",
      "DDWC-050020.xls\n",
      "DDWC-060020.xls\n",
      "DDWC-070020.xls\n",
      "DDWC-080020.xls\n",
      "DDWC-090020.xls\n",
      "DDWC-100020.xls\n",
      "DDWC-110020.xls\n",
      "DDWC-120020.xls\n",
      "DDWC-130020.xls\n",
      "DDWC-140020.xls\n",
      "DDWC-150020.xls\n",
      "DDWC-160020.xls\n",
      "DDWC-170020.xls\n",
      "DDWC-180020.xls\n",
      "DDWC-190020.xls\n",
      "DDWC-200020.xls\n",
      "DDWC-210020.xls\n",
      "DDWC-220020.xls\n",
      "DDWC-230020.xls\n",
      "DDWC-240020.xls\n",
      "DDWC-250020.xls\n",
      "DDWC-260020.xls\n",
      "DDWC-270020.xls\n",
      "DDWC-280020.xls\n",
      "DDWC-290020.xls\n",
      "DDWC-300020.xls\n",
      "DDWC-310020.xls\n",
      "DDWC-320020.xls\n",
      "DDWC-330020.xls\n",
      "DDWC-340020.xls\n",
      "DDWC-350020.xls\n"
     ]
    }
   ],
   "source": [
    "import os\n",
    "filelist = os.listdir(\"./2001/\")\n",
    "\n",
    "for path in filelist:\n",
    "    print(path)\n",
    "    load_del40_deltot_save(\"./2001/\" + path)"
   ]
  },
  {
   "cell_type": "code",
   "execution_count": null,
   "metadata": {},
   "outputs": [],
   "source": []
  },
  {
   "cell_type": "code",
   "execution_count": 6,
   "metadata": {},
   "outputs": [],
   "source": [
    "def loadcleaned_savemksel(filepath):\n",
    "    \n",
    "    rawdata = pd.read_csv(filepath)\n",
    "    file_name = os.path.basename(filepath) \n",
    "    \n",
    "    RAW = rawdata[['State Code', 'District Code', 'Area Name','Total/ Rural/ Urban', 'Age-group']]\n",
    "    State_Name = rawdata['Area Name'][1]\n",
    "    State_Name = State_Name[0:len(State_Name)-4]\n",
    "    \n",
    "    \n",
    "    #Adjusting State Name\n",
    "    for row in RAW.iterrows():\n",
    "        RAW['State'] = file_name[7:len(file_name)-4]\n",
    "    \n",
    "    RAW['City'] = RAW['Area Name'].apply((lambda x: str(x[10:len(x)-4])))\n",
    "    \n",
    "    RAW.drop('Area Name', axis=1, inplace=True)    \n",
    "    \n",
    "    #Adjusting City Name Name\n",
    "    #for row in RAW.iterrows():\n",
    "     #   RAW['City'] = str(row[\"Area Name\"])[10:len(row['Area Name'])-4]\n",
    "        \n",
    "    '''\n",
    "        This cell input the RAW data that doesn't change & df['Type of disablity - In seeing - Females'] \n",
    "        Output DataFrame Disabled_Female_Seeing\n",
    "    '''\n",
    "    DATA = pd.DataFrame()\n",
    "\n",
    "    ColumnList = ['Type of disablity - In seeing - Males'\n",
    "                  ,'Type of disablity - In seeing - Females'\n",
    "                  , 'Type of disablity - In speech - Males'\n",
    "                  ,'Type of disablity - In speech - Females'\n",
    "                  ,'Type of disablity - In hearing - Males'\n",
    "                  ,'Type of disablity - In hearing - Females'\n",
    "                  ,'Type of disablity - In movement - Males'\n",
    "                  ,'Type of disablity - In movement - Females'\n",
    "                  ,'Type of disablity - Mental - Males'\n",
    "                  ,'Type of disablity - Mental - Females']\n",
    "\n",
    "    for col_name in ColumnList:\n",
    "        #Extracting Gender & Type from column name\n",
    "        l = col_name.split(' - ')\n",
    "        Disability_type = l[1]\n",
    "        Gender = l[2]\n",
    "        Gender = Gender[0:len(Gender)-1]\n",
    "        #Extracting Gender & Type from column name\n",
    "\n",
    "\n",
    "        New_Data = RAW.copy()\n",
    "        for row in New_Data.iterrows():\n",
    "            New_Data['Gender'] = Gender\n",
    "            New_Data['Type'] = Disability_type\n",
    "\n",
    "        New_Data['Rate'] = rawdata[col_name]\n",
    "\n",
    "        frames = [DATA,New_Data]\n",
    "        DATA = pd.concat(frames)\n",
    "        \n",
    "        savepath = r\"./2001_keseled/\" + file_name\n",
    "        \n",
    "        SAT = DATA.rename(columns={\"State Code\": \"State_Code\",\"District Code\": \"District_Code\",\"Total/ Rural/ Urban\": \"Area_Type\", \"Age-group\": \"Age_Group\"})\n",
    "        SAT.to_csv (savepath,index = False)"
   ]
  },
  {
   "cell_type": "code",
   "execution_count": 7,
   "metadata": {},
   "outputs": [
    {
     "name": "stdout",
     "output_type": "stream",
     "text": [
      "State - ANDAMAN & NICOBAR ISLANDS.csv\n"
     ]
    },
    {
     "name": "stderr",
     "output_type": "stream",
     "text": [
      "C:\\Users\\Hidik\\Anaconda3\\lib\\site-packages\\ipykernel_launcher.py:13: SettingWithCopyWarning: \n",
      "A value is trying to be set on a copy of a slice from a DataFrame.\n",
      "Try using .loc[row_indexer,col_indexer] = value instead\n",
      "\n",
      "See the caveats in the documentation: http://pandas.pydata.org/pandas-docs/stable/indexing.html#indexing-view-versus-copy\n",
      "  del sys.path[0]\n",
      "C:\\Users\\Hidik\\Anaconda3\\lib\\site-packages\\ipykernel_launcher.py:15: SettingWithCopyWarning: \n",
      "A value is trying to be set on a copy of a slice from a DataFrame.\n",
      "Try using .loc[row_indexer,col_indexer] = value instead\n",
      "\n",
      "See the caveats in the documentation: http://pandas.pydata.org/pandas-docs/stable/indexing.html#indexing-view-versus-copy\n",
      "  from ipykernel import kernelapp as app\n",
      "C:\\Users\\Hidik\\Anaconda3\\lib\\site-packages\\pandas\\core\\frame.py:3940: SettingWithCopyWarning: \n",
      "A value is trying to be set on a copy of a slice from a DataFrame\n",
      "\n",
      "See the caveats in the documentation: http://pandas.pydata.org/pandas-docs/stable/indexing.html#indexing-view-versus-copy\n",
      "  errors=errors)\n"
     ]
    },
    {
     "name": "stdout",
     "output_type": "stream",
     "text": [
      "State - ANDHRA PRADESH.csv\n",
      "State - ARUNACHAL PRADESH.csv\n",
      "State - ASSAM.csv\n",
      "State - BIHAR.csv\n",
      "State - CHANDIGARH.csv\n",
      "State - CHHATTISGARH.csv\n",
      "State - DADRA & NAGAR HAVELI.csv\n",
      "State - DAMAN & DIU.csv\n",
      "State - DELHI.csv\n",
      "State - GOA.csv\n",
      "State - GUJARAT.csv\n",
      "State - HARYANA.csv\n",
      "State - HIMACHAL PRADESH.csv\n",
      "State - JAMMU & KASHMIR.csv\n",
      "State - JHARKHAND.csv\n",
      "State - KARNATAKA.csv\n",
      "State - KERALA.csv\n",
      "State - LAKSHADWEEP.csv\n",
      "State - MADHYA PRADESH.csv\n",
      "State - MAHARASHTRA.csv\n",
      "State - MANIPUR.csv\n",
      "State - MEGHALAYA.csv\n",
      "State - MIZORAM.csv\n",
      "State - NAGALAND.csv\n",
      "State - ORISSA.csv\n",
      "State - PONDICHERRY.csv\n",
      "State - PUNJAB.csv\n",
      "State - RAJASTHAN.csv\n",
      "State - SIKKIM.csv\n",
      "State - TAMIL NADU.csv\n",
      "State - TRIPURA.csv\n",
      "State - UTTAR PRADESH.csv\n",
      "State - UTTARANCHAL.csv\n",
      "State - WEST BENGAL.csv\n"
     ]
    }
   ],
   "source": [
    "filelist = list(filter(lambda x: '.csv' in x, os.listdir(\"./2001_Cleaned/\")))\n",
    "\n",
    "for path in filelist:\n",
    "    print(path)\n",
    "    loadcleaned_savemksel(\"./2001_Cleaned/\" + path)"
   ]
  },
  {
   "cell_type": "code",
   "execution_count": null,
   "metadata": {},
   "outputs": [],
   "source": [
    "rawdata = pd.read_csv(\"./2001_keseled/State - BIHAR.csv\")"
   ]
  },
  {
   "cell_type": "code",
   "execution_count": 294,
   "metadata": {},
   "outputs": [
    {
     "data": {
      "text/plain": [
       "Index(['State Code', 'District Code', 'Area Name', 'Total/ Rural/ Urban',\n",
       "       'Age-group', 'Gender', 'Type', 'Rate'],\n",
       "      dtype='object')"
      ]
     },
     "execution_count": 294,
     "metadata": {},
     "output_type": "execute_result"
    }
   ],
   "source": [
    "rawdata.columns"
   ]
  },
  {
   "cell_type": "code",
   "execution_count": null,
   "metadata": {},
   "outputs": [],
   "source": []
  }
 ],
 "metadata": {
  "kernelspec": {
   "display_name": "Python 3",
   "language": "python",
   "name": "python3"
  },
  "language_info": {
   "codemirror_mode": {
    "name": "ipython",
    "version": 3
   },
   "file_extension": ".py",
   "mimetype": "text/x-python",
   "name": "python",
   "nbconvert_exporter": "python",
   "pygments_lexer": "ipython3",
   "version": "3.7.3"
  }
 },
 "nbformat": 4,
 "nbformat_minor": 4
}
