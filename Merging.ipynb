{
 "cells": [
  {
   "cell_type": "code",
   "execution_count": 48,
   "metadata": {},
   "outputs": [],
   "source": [
    "from pandas import DataFrame, read_csv\n",
    "import pandas as pd\n",
    "import os\n",
    "import numpy as np\n"
   ]
  },
  {
   "cell_type": "code",
   "execution_count": 67,
   "metadata": {},
   "outputs": [],
   "source": [
    "filelist = list(filter(lambda x: '.csv' in x, os.listdir(\"./2001_keseled/\")))\n",
    "\n",
    "All_DATA = pd.DataFrame()\n",
    "for path in filelist:\n",
    "    \n",
    "    data = pd.read_csv(\"./2001_keseled/\"  + path)\n",
    "    data['City'] = data['City'].apply((lambda x:str(x[0:len(x)-3]) if '*' in x else x))\n",
    "    data['City'] = data['City'].apply((lambda x:str(x[1:len(x)]) if x[0] == ' ' else x))\n",
    "    \n",
    "    data['State'] = data['State'].apply((lambda x:str(x[1:len(x)]) if x[0] == ' ' else x))\n",
    "    \n",
    "    frames = [All_DATA,data]\n",
    "    All_DATA = pd.concat(frames)\n",
    "\n",
    "All_DATA.to_csv(\"./2001.csv\",index = False)"
   ]
  },
  {
   "cell_type": "code",
   "execution_count": null,
   "metadata": {},
   "outputs": [],
   "source": []
  },
  {
   "cell_type": "code",
   "execution_count": 68,
   "metadata": {},
   "outputs": [
    {
     "name": "stdout",
     "output_type": "stream",
     "text": [
      "35\n",
      "['ANDAMAN & NICOBAR ISLANDS' 'ANDHRA PRADESH' 'ARUNACHAL PRADESH' 'ASSAM'\n",
      " 'BIHAR' 'CHANDIGARH' 'CHHATTISGARH' 'DADRA & NAGAR HAVELI' 'DAMAN & DIU'\n",
      " 'DELHI' 'GOA' 'GUJARAT' 'HARYANA' 'HIMACHAL PRADESH' 'JAMMU & KASHMIR'\n",
      " 'JHARKHAND' 'KARNATAKA' 'KERALA' 'LAKSHADWEEP' 'MADHYA PRADESH'\n",
      " 'MAHARASHTRA' 'MANIPUR' 'MEGHALAYA' 'MIZORAM' 'NAGALAND' 'ORISSA'\n",
      " 'PONDICHERRY' 'PUNJAB' 'RAJASTHAN' 'SIKKIM' 'TAMIL NADU' 'TRIPURA'\n",
      " 'UTTAR PRADESH' 'UTTARANCHAL' 'WEST BENGAL']\n"
     ]
    }
   ],
   "source": [
    "data = pd.read_csv(\"./2001.csv\")\n",
    "\n",
    "state = data.State.unique()\n",
    "print(len(state))\n",
    "print(np.sort(state))"
   ]
  },
  {
   "cell_type": "code",
   "execution_count": 72,
   "metadata": {},
   "outputs": [],
   "source": [
    "filelist = list(filter(lambda x: '.csv' in x, os.listdir(\"./2011_keseled/\")))\n",
    "\n",
    "All_DATA = pd.DataFrame()\n",
    "for path in filelist:\n",
    "    \n",
    "    data = pd.read_csv(\"./2011_keseled/\"  + path)\n",
    "    data['City'] = data['City'].apply((lambda x:str(x[0:len(x)-3]) if '*' in x else x))\n",
    "    data['City'] = data['City'].apply((lambda x:str(x[1:len(x)]) if x[0] == ' ' else x))\n",
    "    \n",
    "    data['State'] = data['State'].apply((lambda x:str(x[1:len(x)]) if x[0] == ' ' else x))\n",
    "    frames = [All_DATA,data]\n",
    "    All_DATA = pd.concat(frames)\n",
    "\n",
    "All_DATA.to_csv(\"./2011.csv\",index = False)"
   ]
  },
  {
   "cell_type": "code",
   "execution_count": 73,
   "metadata": {},
   "outputs": [
    {
     "name": "stdout",
     "output_type": "stream",
     "text": [
      "34\n",
      "['ANDAMAN & NICOBAR ISLANDS' 'ANDHRA PRADESH' 'ARUNACHAL PRADESH' 'ASSAM'\n",
      " 'BIHAR' 'CHHATTISGARH' 'DADRA & NAGAR HAVELI' 'DAMAN & DIU' 'GOA'\n",
      " 'GUJARAT' 'HARYANA' 'HIMACHAL PRADESH' 'JAMMU & KASHMIR' 'JHARKHAND'\n",
      " 'KARNATAKA' 'KERALA' 'LAKSHADWEEP' 'MADHYA PRADESH' 'MAHARASHTRA'\n",
      " 'MANIPUR' 'MEGHALAYA' 'MIZORAM' 'NAGALAND' 'NCT OF DELHI' 'ODISHA'\n",
      " 'PUDUCHERRY' 'PUNJAB' 'RAJASTHAN' 'SIKKIM' 'TAMIL NADU' 'TRIPURA'\n",
      " 'UTTAR PRADESH' 'UTTARAKHAND' 'WEST BENGAL']\n"
     ]
    }
   ],
   "source": [
    "data = pd.read_csv(\"./2011.csv\")\n",
    "\n",
    "state = data.State.unique()\n",
    "print(len(state))\n",
    "print(np.sort(state))"
   ]
  },
  {
   "cell_type": "code",
   "execution_count": null,
   "metadata": {},
   "outputs": [],
   "source": []
  }
 ],
 "metadata": {
  "kernelspec": {
   "display_name": "Python 3",
   "language": "python",
   "name": "python3"
  },
  "language_info": {
   "codemirror_mode": {
    "name": "ipython",
    "version": 3
   },
   "file_extension": ".py",
   "mimetype": "text/x-python",
   "name": "python",
   "nbconvert_exporter": "python",
   "pygments_lexer": "ipython3",
   "version": "3.7.3"
  }
 },
 "nbformat": 4,
 "nbformat_minor": 4
}
