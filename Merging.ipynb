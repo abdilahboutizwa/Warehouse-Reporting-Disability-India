{
 "cells": [
  {
   "cell_type": "code",
   "execution_count": 1,
   "metadata": {},
   "outputs": [],
   "source": [
    "from pandas import DataFrame, read_csv\n",
    "import pandas as pd\n",
    "import os\n",
    "import numpy as np\n"
   ]
  },
  {
   "cell_type": "code",
   "execution_count": 19,
   "metadata": {},
   "outputs": [],
   "source": [
    "filelist = list(filter(lambda x: '.csv' in x, os.listdir(\"./2001_keseled/\")))\n",
    "\n",
    "All_DATA = pd.DataFrame()\n",
    "for path in filelist:\n",
    "    \n",
    "    data = pd.read_csv(\"./2001_keseled/\"  + path)\n",
    "\n",
    "    data['City'] = data['City'].apply((lambda x:str(x[0:len(x)-3]) if '*' in x else x))\n",
    "    data['City'] = data['City'].apply((lambda x:str(x[1:len(x)]) if x[0] == ' ' else x))\n",
    "    \n",
    "    data['State'] = data['State'].apply((lambda x:str(x[1:len(x)]) if x[0] == ' ' else x))\n",
    "    data['year'] = ['2001' for i in range(data.shape[0])]\n",
    "    \n",
    "    data['id_city'] = data['State_Code'].astype(str) + data['District_Code'].astype(str)\n",
    "    \n",
    "    frames = [All_DATA,data]\n",
    "    All_DATA = pd.concat(frames)\n",
    "\n",
    "All_DATA.to_csv(\"./2001.csv\",index = False)"
   ]
  },
  {
   "cell_type": "code",
   "execution_count": null,
   "metadata": {},
   "outputs": [],
   "source": []
  },
  {
   "cell_type": "code",
   "execution_count": 12,
   "metadata": {},
   "outputs": [],
   "source": []
  },
  {
   "cell_type": "code",
   "execution_count": 5,
   "metadata": {},
   "outputs": [],
   "source": [
    "filelist = list(filter(lambda x: '.csv' in x, os.listdir(\"./2011_keseled/\")))\n",
    "\n",
    "All_DATA = pd.DataFrame()\n",
    "for path in filelist:\n",
    "    \n",
    "    data = pd.read_csv(\"./2011_keseled/\"  + path)\n",
    "\n",
    "    data['City'] = data['City'].apply((lambda x: \"Almora\" if 'Almora' in x else x))\n",
    "\n",
    "\n",
    "    data['City'] = data['City'].apply((lambda x:str(x[0:len(x)-3]) if '*' in x else x))\n",
    "    data['City'] = data['City'].apply((lambda x:str(x[1:len(x)]) if x[0] == ' ' else x))\n",
    "    \n",
    "    data['State'] = data['State'].apply((lambda x:str(x[1:len(x)]) if x[0] == ' ' else x))\n",
    "    data['year'] = ['2011' for i in range(data.shape[0])]\n",
    "    \n",
    "    data['id_city'] = data['State_Code'].astype(str) + data['District_Code'].astype(str)\n",
    "    data['City'] = data['City'].apply((lambda x:str(x[1:len(x)]) if x[0] == ' ' else x))\n",
    "    \n",
    "    \n",
    "    frames = [All_DATA,data]\n",
    "    All_DATA = pd.concat(frames)\n",
    "\n",
    "All_DATA.to_csv(\"./2011_file.csv\",index = False)"
   ]
  },
  {
   "cell_type": "code",
   "execution_count": 15,
   "metadata": {},
   "outputs": [
    {
     "name": "stdout",
     "output_type": "stream",
     "text": "['Nicobars' 'North  & Middle Andaman' 'South Andaman' 'Adilabad'\n 'Nizamabad' 'Karimnagar' 'Medak' 'Hyderabad' 'Rangareddy' 'Mahbubnagar'\n 'Nalgonda' 'Warangal' 'Khammam' 'Srikakulam' 'Vizianagaram'\n 'Visakhapatnam' 'East Godavari' 'West Godavari' 'Krishna' 'Guntur'\n 'Prakasam' 'Sri Potti Sriramulu Nellore' 'Y.S.R.' 'Kurnool' 'Anantapur'\n 'Chittoor' 'Tawang' 'West Kameng' 'East Kameng' 'Papum Pare'\n 'Upper Subansiri' 'West Siang' 'East Siang' 'Upper Siang' 'Changlang'\n 'Tirap' 'Lower Subansiri' 'Kurung Kumey' 'Dibang Valley'\n 'Lower Dibang Valley' 'Lohit' 'Anjaw' 'Kokrajhar' 'Dhubri' 'Goalpara'\n 'Barpeta' 'Morigaon' 'Nagaon' 'Sonitpur' 'Lakhimpur' 'Dhemaji' 'Tinsukia'\n 'Dibrugarh' 'Sivasagar' 'Jorhat' 'Golaghat' 'Karbi Anglong' 'Dima Hasao'\n 'Cachar' 'Karimganj' 'Hailakandi' 'Bongaigaon' 'Chirang' 'Kamrup'\n 'Kamrup Metropolitan' 'Nalbari' 'Baksa' 'Darrang' 'Udalguri'\n 'Pashchim Champaran' 'Purba Champaran' 'Sheohar' 'Sitamarhi' 'Madhubani'\n 'Supaul' 'Araria' 'Kishanganj' 'Purnia' 'Katihar' 'Madhepura' 'Saharsa'\n 'Darbhanga' 'Muzaffarpur' 'Gopalganj' 'Siwan' 'Saran' 'Vaishali'\n 'Samastipur' 'Begusarai' 'Khagaria' 'Bhagalpur' 'Banka' 'Munger'\n 'Lakhisarai' 'Sheikhpura' 'Nalanda' 'Patna' 'Bhojpur' 'Buxar'\n 'Kaimur (Bhabua)' 'Rohtas' 'Aurangabad' 'Gaya' 'Nawada' 'Jamui'\n 'Jehanabad ' 'Arwal' 'Koriya' 'Surguja' 'Jashpur ' 'Raigarh' 'Korba '\n 'Janjgir - Champa' 'Bilaspur' 'Kabeerdham' 'Rajnandgaon' 'Durg' 'Raipur'\n 'Mahasamund' 'Dhamtari ' 'Uttar Bastar Kanker' 'Bastar' 'Narayanpur'\n 'Dakshin Bastar Dantewada' 'Bijapur' 'Dadra & Nagar Haveli' 'Diu' 'Daman'\n 'North Goa' 'South Goa' 'Kachchh' 'Banas Kantha' 'Patan  ' 'Mahesana'\n 'Sabar Kantha' 'Gandhinagar' 'Ahmadabad' 'Surendranagar' 'Rajkot'\n 'Jamnagar' 'Porbandar ' 'Junagadh' 'Amreli' 'Bhavnagar' 'Anand  ' 'Kheda'\n 'Panch Mahals' 'Dohad  ' 'Vadodara' 'Narmada' 'Bharuch' 'The Dangs'\n 'Navsari  ' 'Valsad' 'Surat' 'Tapi' 'Panchkula' 'Ambala' 'Yamunanagar'\n 'Kurukshetra' 'Kaithal' 'Karnal' 'Panipat' 'Sonipat' 'Jind' 'Fatehabad'\n 'Sirsa' 'Hisar' 'Bhiwani' 'Rohtak' 'Jhajjar' 'Mahendragarh' 'Rewari'\n 'Gurgaon' 'Mewat ' 'Faridabad' 'Palwal ' 'Chamba' 'Kangra'\n 'Lahul & Spiti' 'Kullu' 'Mandi' 'Hamirpur' 'Una' 'Solan' 'Sirmaur'\n 'Shimla' 'Kinnaur' 'Kupwara' 'Badgam' 'Leh(Ladakh)' 'Kargil' 'Punch'\n 'Rajouri' 'Kathua' 'Baramula' 'Bandipore' 'Srinagar' 'Ganderbal'\n 'Pulwama' 'Shupiyan' 'Anantnag' 'Kulgam' 'Doda' 'Ramban' 'Kishtwar'\n 'Udhampur' 'Reasi' 'Jammu' 'Samba' 'Garhwa ' 'Chatra' 'Kodarma' 'Giridih'\n 'Deoghar' 'Godda' 'Sahibganj' 'Pakur' 'Dhanbad' 'Bokaro' 'Lohardaga'\n 'Purbi Singhbhum' 'Palamu' 'Latehar' 'Hazaribagh' 'Ramgarh' 'Dumka'\n 'Jamtara' 'Ranchi' 'Khunti' 'Gumla' 'Simdega' 'Pashchimi Singhbhum'\n 'Saraikela-Kharsawan' 'Belgaum' 'Bagalkot ' 'Bidar' 'Raichur' 'Koppal'\n 'Gadag' 'Dharwad' 'Uttara Kannada' 'Haveri' 'Bellary' 'Chitradurga'\n 'Davanagere' 'Shimoga' 'Udupi' 'Chikmagalur' 'Tumkur' 'Bangalore'\n 'Mandya' 'Hassan' 'Dakshina Kannada' 'Kodagu' 'Mysore' 'Chamarajanagar'\n 'Gulbarga' 'Yadgir' 'Kolar' 'Chikkaballapura' 'Bangalore Rural'\n 'Ramanagara' 'Kasaragod' 'Kannur' 'Wayanad' 'Kozhikode' 'Malappuram'\n 'Palakkad' 'Thrissur' 'Ernakulam' 'Idukki ' 'Kottayam' 'Alappuzha'\n 'Pathanamthitta' 'Kollam' 'Thiruvananthapuram' 'Lakshadweep' 'Sheopur '\n 'Morena' 'Bhind' 'Gwalior' 'Datia' 'Shivpuri' 'Tikamgarh' 'Chhatarpur'\n 'Panna' 'Sagar' 'Damoh' 'Satna' 'Rewa' 'Umaria' 'Neemuch ' 'Mandsaur'\n 'Ratlam' 'Ujjain' 'Shajapur' 'Dewas' 'Dhar' 'Indore'\n 'Khargone (West Nimar)' 'Barwani ' 'Rajgarh' 'Vidisha' 'Bhopal' 'Sehore'\n 'Raisen' 'Betul' 'Harda ' 'Hoshangabad' 'Katni ' 'Jabalpur' 'Narsimhapur'\n 'Dindori ' 'Mandla' 'Chhindwara' 'Seoni' 'Balaghat' 'Guna' 'Ashoknagar'\n 'Shahdol' 'Anuppur' 'Sidhi' 'Singrauli' 'Jhabua' 'Alirajpur'\n 'Khandwa (East Nimar)' 'Burhanpur' 'Nandurbar' 'Dhule' 'Jalgaon'\n 'Buldana' 'Akola' 'Washim' 'Amravati' 'Wardha' 'Nagpur' 'Bhandara'\n 'Gondiya' 'Gadchiroli' 'Chandrapur' 'Yavatmal' 'Nanded' 'Hingoli'\n 'Parbhani' 'Jalna' 'Nashik' 'Thane' 'Mumbai Suburban' 'Mumbai' 'Pune'\n 'Ahmadnagar' 'Bid' 'Latur' 'Osmanabad' 'Solapur' 'Satara' 'Ratnagiri'\n 'Sindhudurg' 'Kolhapur' 'Sangli' 'Senapati' 'Tamenglong ' 'Churachandpur'\n 'Bishnupur' 'Thoubal' 'Imphal West' 'Imphal East' 'Ukhrul' 'Chandel'\n 'West Garo Hills' 'East Garo Hills' 'South Garo Hills' 'West Khasi Hills'\n 'Ribhoi' 'East Khasi Hills' 'Jaintia Hills' 'Mamit' 'Kolasib' 'Aizawl'\n 'Champhai' 'Serchhip' 'Lunglei' 'Lawngtlai' 'Saiha' 'Mon' 'Mokokchung'\n 'Zunheboto' 'Wokha' 'Dimapur ' 'Phek' 'Tuensang' 'Longleng' 'Kiphire'\n 'Kohima' 'Peren' 'North West' 'North' 'North East' 'East' 'New Delhi'\n 'Central' 'West' 'South West' 'South' 'Bargarh' 'Jharsuguda' 'Sambalpur'\n 'Debagarh' 'Sundargarh' 'Kendujhar' 'Mayurbhanj' 'Baleshwar' 'Bhadrak'\n 'Kendrapara ' 'Jagatsinghapur ' 'Cuttack' 'Jajapur  ' 'Dhenkanal'\n 'Anugul  ' 'Nayagarh  ' 'Khordha ' 'Puri' 'Ganjam' 'Gajapati' 'Kandhamal'\n 'Baudh' 'Subarnapur' 'Balangir' 'Nuapada' 'Kalahandi' 'Rayagada  '\n 'Nabarangapur ' 'Koraput' 'Malkangiri  ' 'Yanam' 'Puducherry' 'Mahe'\n 'Karaikal' 'Gurdaspur' 'Kapurthala ' 'Jalandhar' 'Hoshiarpur'\n 'Shahid Bhagat Singh Nagar ' 'Fatehgarh Sahib' 'Ludhiana' 'Moga'\n 'Firozpur' 'Muktsar' 'Faridkot' 'Bathinda' 'Mansa' 'Patiala' 'Amritsar '\n 'Tarn Taran' 'Rupnagar' 'Sahibzada Ajit Singh Nagar' 'Sangrur' 'Barnala'\n 'Ganganagar ' 'Hanumangarh' 'Bikaner' 'Churu' 'Jhunjhunun' 'Alwar'\n 'Bharatpur' 'Dhaulpur' 'Karauli' 'Sawai Madhopur' 'Dausa' 'Jaipur'\n 'Sikar' 'Nagaur' 'Jodhpur' 'Jaisalmer' 'Barmer' 'Jalor' 'Sirohi' 'Pali'\n 'Ajmer' 'Tonk' 'Bundi' 'Bhilwara' 'Rajsamand' 'Dungarpur' 'Banswara'\n 'Chittaurgarh' 'Kota' 'Baran' 'Jhalawar' 'Udaipur' 'Pratapgarh'\n 'North  District' 'West District' 'South District' 'East District'\n 'Thiruvallur' 'Chennai' 'Kancheepuram' 'Vellore' 'Tiruvannamalai'\n 'Viluppuram' 'Salem' 'Namakkal   ' 'Erode' 'The Nilgiris' 'Dindigul'\n 'Karur ' 'Tiruchirappalli' 'Perambalur  ' 'Ariyalur  ' 'Cuddalore'\n 'Nagapattinam  ' 'Thiruvarur' 'Thanjavur' 'Pudukkottai' 'Sivaganga'\n 'Madurai' 'Theni  ' 'Virudhunagar' 'Ramanathapuram' 'Thoothukkudi'\n 'Tirunelveli ' 'Kanniyakumari' 'Dharmapuri' 'Krishnagiri' 'Coimbatore'\n 'Tiruppur' 'West Tripura ' 'South Tripura ' 'Dhalai' 'North Tripura'\n 'Saharanpur' 'Muzaffarnagar' 'Bijnor' 'Moradabad' 'Rampur'\n 'Jyotiba Phule Nagar' 'Meerut' 'Baghpat' 'Ghaziabad'\n 'Gautam Buddha Nagar' 'Bulandshahr ' 'Aligarh' 'Mahamaya Nagar' 'Mathura'\n 'Agra' 'Firozabad' 'Mainpuri' 'Budaun' 'Bareilly' 'Pilibhit'\n 'Shahjahanpur' 'Kheri' 'Sitapur' 'Hardoi' 'Unnao' 'Lucknow' 'Rae Bareli'\n 'Farrukhabad' 'Kannauj' 'Etawah' 'Auraiya' 'Kanpur Dehat' 'Kanpur Nagar'\n 'Jalaun ' 'Jhansi' 'Lalitpur' 'Mahoba' 'Banda' 'Chitrakoot' 'Fatehpur'\n 'Kaushambi' 'Allahabad ' 'Bara Banki' 'Faizabad' 'Ambedkar Nagar'\n 'Sultanpur' 'Bahraich' 'Shrawasti' 'Balrampur' 'Gonda' 'Siddharthnagar'\n 'Basti' 'Sant Kabir Nagar' 'Mahrajganj' 'Gorakhpur' 'Kushinagar' 'Deoria'\n 'Azamgarh' 'Mau' 'Ballia' 'Jaunpur' 'Ghazipur' 'Chandauli' 'Varanasi'\n 'Sant Ravidas Nagar (Bhadohi)' 'Mirzapur' 'Sonbhadra' 'Etah'\n 'Kanshiram Nagar' 'Uttarkashi' 'Chamoli' 'Rudraprayag' 'Tehri Garhwal'\n 'Dehradun' 'Garhwal' 'Pithoragarh' 'Bageshwar' 'Almora\\n' 'Champawat'\n 'Nainital' 'Udham Singh Nagar' 'Hardwar' 'Darjiling ' 'Jalpaiguri '\n 'Koch Bihar ' 'Uttar Dinajpur' 'Dakshin Dinajpur' 'Maldah '\n 'Murshidabad ' 'Birbhum' 'Barddhaman ' 'Nadia '\n 'North Twenty Four Parganas' 'Hugli ' 'Bankura ' 'Puruliya' 'Haora '\n 'Kolkata' 'South Twenty Four Parganas' 'Paschim Medinipur'\n 'Purba Medinipur']\n"
    }
   ],
   "source": [
    "data = pd.read_csv(\"./2011.csv\")\n",
    "\n",
    "print(data.City.unique())"
   ]
  },
  {
   "cell_type": "code",
   "execution_count": 28,
   "metadata": {},
   "outputs": [
    {
     "name": "stdout",
     "output_type": "stream",
     "text": "['State_Code' 'District_Code' 'Area_Type' 'Age_Group' 'State' 'City'\n 'Gender' 'Type' 'Rate' 'year' 'id_city']\n['State_Code' 'District_Code' 'Area_Type' 'Age_Group' 'State' 'City'\n 'Gender' 'Type' 'Rate' 'year' 'id_city']\n"
    }
   ],
   "source": [
    "#merging two files\n",
    "\n",
    "DATA= pd.DataFrame()\n",
    "\n",
    "data1 = pd.read_csv(\"./2001.csv\")\n",
    "data2 = pd.read_csv(\"./2011.csv\")\n",
    "\n",
    "frames = [data1,data2]\n",
    "\n",
    "DATA = pd.concat(frames)\n",
    "\n",
    "print(data1.columns.values)\n",
    "print(data2.columns.values)\n",
    "\n",
    "DATA.to_csv(\"./Disability.csv\",index = False)"
   ]
  },
  {
   "cell_type": "code",
   "execution_count": null,
   "metadata": {},
   "outputs": [],
   "source": []
  },
  {
   "cell_type": "code",
   "execution_count": null,
   "metadata": {},
   "outputs": [],
   "source": []
  }
 ],
 "metadata": {
  "kernelspec": {
   "display_name": "Python 3",
   "language": "python",
   "name": "python3"
  },
  "language_info": {
   "codemirror_mode": {
    "name": "ipython",
    "version": 3
   },
   "file_extension": ".py",
   "mimetype": "text/x-python",
   "name": "python",
   "nbconvert_exporter": "python",
   "pygments_lexer": "ipython3",
   "version": "3.7.3"
  }
 },
 "nbformat": 4,
 "nbformat_minor": 4
}