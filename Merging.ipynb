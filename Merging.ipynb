{
 "cells": [
  {
   "cell_type": "code",
   "execution_count": 1,
   "metadata": {},
   "outputs": [],
   "source": [
    "from pandas import DataFrame, read_csv\n",
    "import pandas as pd\n",
    "import os\n",
    "import numpy as np\n"
   ]
  },
  {
   "cell_type": "code",
   "execution_count": 19,
   "metadata": {},
   "outputs": [],
   "source": [
    "filelist = list(filter(lambda x: '.csv' in x, os.listdir(\"./2001_keseled/\")))\n",
    "\n",
    "All_DATA = pd.DataFrame()\n",
    "for path in filelist:\n",
    "    \n",
    "    data = pd.read_csv(\"./2001_keseled/\"  + path)\n",
    "\n",
    "    data['City'] = data['City'].apply((lambda x:str(x[0:len(x)-3]) if '*' in x else x))\n",
    "    data['City'] = data['City'].apply((lambda x:str(x[1:len(x)]) if x[0] == ' ' else x))\n",
    "    \n",
    "    data['State'] = data['State'].apply((lambda x:str(x[1:len(x)]) if x[0] == ' ' else x))\n",
    "    data['year'] = ['2001' for i in range(data.shape[0])]\n",
    "    \n",
    "    data['id_city'] = data['State_Code'].astype(str) + data['District_Code'].astype(str)\n",
    "    \n",
    "    frames = [All_DATA,data]\n",
    "    All_DATA = pd.concat(frames)\n",
    "\n",
    "All_DATA.to_csv(\"./2001.csv\",index = False)"
   ]
  },
  {
   "cell_type": "code",
   "execution_count": null,
   "metadata": {},
   "outputs": [],
   "source": []
  },
  {
   "cell_type": "code",
   "execution_count": 12,
   "metadata": {},
   "outputs": [],
   "source": []
  },
  {
   "cell_type": "code",
   "execution_count": 5,
   "metadata": {},
   "outputs": [],
   "source": [
    "filelist = list(filter(lambda x: '.csv' in x, os.listdir(\"./2011_keseled/\")))\n",
    "\n",
    "All_DATA = pd.DataFrame()\n",
    "for path in filelist:\n",
    "    \n",
    "    data = pd.read_csv(\"./2011_keseled/\"  + path)\n",
    "\n",
    "    data['City'] = data['City'].apply((lambda x: \"Almora\" if 'Almora' in x else x))\n",
    "\n",
    "\n",
    "    data['City'] = data['City'].apply((lambda x:str(x[0:len(x)-3]) if '*' in x else x))\n",
    "    data['City'] = data['City'].apply((lambda x:str(x[1:len(x)]) if x[0] == ' ' else x))\n",
    "    \n",
    "    data['State'] = data['State'].apply((lambda x:str(x[1:len(x)]) if x[0] == ' ' else x))\n",
    "    data['year'] = ['2011' for i in range(data.shape[0])]\n",
    "    \n",
    "    data['id_city'] = data['State_Code'].astype(str) + data['District_Code'].astype(str)\n",
    "    data['City'] = data['City'].apply((lambda x:str(x[1:len(x)]) if x[0] == ' ' else x))\n",
    "    \n",
    "    \n",
    "    frames = [All_DATA,data]\n",
    "    All_DATA = pd.concat(frames)\n",
    "\n",
    "All_DATA.to_csv(\"./2011_file.csv\",index = False)"
   ]
  },
  {
   "cell_type": "code",
   "execution_count": 7,
   "metadata": {},
   "outputs": [
    {
     "name": "stdout",
     "output_type": "stream",
     "text": "34\n"
    }
   ],
   "source": [
    "data = pd.read_csv(\"./2011.csv\")\n",
    "\n",
    "print(len(data.State.unique()))"
   ]
  },
  {
   "cell_type": "code",
   "execution_count": 28,
   "metadata": {},
   "outputs": [
    {
     "name": "stdout",
     "output_type": "stream",
     "text": "['State_Code' 'District_Code' 'Area_Type' 'Age_Group' 'State' 'City'\n 'Gender' 'Type' 'Rate' 'year' 'id_city']\n['State_Code' 'District_Code' 'Area_Type' 'Age_Group' 'State' 'City'\n 'Gender' 'Type' 'Rate' 'year' 'id_city']\n"
    }
   ],
   "source": [
    "#merging two files\n",
    "\n",
    "DATA= pd.DataFrame()\n",
    "\n",
    "data1 = pd.read_csv(\"./2001.csv\")\n",
    "data2 = pd.read_csv(\"./2011.csv\")\n",
    "\n",
    "frames = [data1,data2]\n",
    "\n",
    "DATA = pd.concat(frames)\n",
    "\n",
    "print(data1.columns.values)\n",
    "print(data2.columns.values)\n",
    "\n",
    "DATA.to_csv(\"./Disability.csv\",index = False)"
   ]
  },
  {
   "cell_type": "code",
   "execution_count": null,
   "metadata": {},
   "outputs": [],
   "source": []
  },
  {
   "cell_type": "code",
   "execution_count": null,
   "metadata": {},
   "outputs": [],
   "source": []
  }
 ],
 "metadata": {
  "kernelspec": {
   "display_name": "Python 3",
   "language": "python",
   "name": "python3"
  },
  "language_info": {
   "codemirror_mode": {
    "name": "ipython",
    "version": 3
   },
   "file_extension": ".py",
   "mimetype": "text/x-python",
   "name": "python",
   "nbconvert_exporter": "python",
   "pygments_lexer": "ipython3",
   "version": "3.7.3"
  }
 },
 "nbformat": 4,
 "nbformat_minor": 4
}