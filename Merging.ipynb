{
 "cells": [
  {
   "cell_type": "code",
   "execution_count": 4,
   "metadata": {},
   "outputs": [],
   "source": [
    "from pandas import DataFrame, read_csv\n",
    "import pandas as pd\n",
    "import os\n",
    "import numpy as np\n"
   ]
  },
  {
   "cell_type": "code",
   "execution_count": 23,
   "metadata": {},
   "outputs": [],
   "source": [
    "import string\n",
    "def UniqueID(name):\n",
    "    Alpha = list(string.ascii_letters)\n",
    "    Alpha = Alpha + list(string.punctuation)\n",
    "    Alpha.append(' ')\n",
    "\n",
    "    code = \"\"\n",
    "    for s in name:\n",
    "        code = code + str(Alpha.index(s))\n",
    "    \n",
    "    return code"
   ]
  },
  {
   "cell_type": "code",
   "execution_count": 67,
   "metadata": {},
   "outputs": [],
   "source": [
    "filelist = list(filter(lambda x: '.csv' in x, os.listdir(\"./2001_keseled/\")))\n",
    "\n",
    "All_DATA = pd.DataFrame()\n",
    "for path in filelist:\n",
    "    \n",
    "    data = pd.read_csv(\"./2001_keseled/\"  + path)\n",
    "\n",
    "    \n",
    "    data['State'] = data['State'].apply((lambda x:str(x[1:len(x)]) if x[0] == ' ' else x))\n",
    "    data['City'] = data['City'].apply((lambda x:str(x[0:len(x)-1]) if x[len(x)-1] == ' ' else x))\n",
    "    data['City'] = data['City'].apply((lambda x:str(x[0:len(x)-2]) if x[len(x)-2] == ' ' else x))\n",
    "    data['City'] = data['City'].apply((lambda x:str(x[0:len(x)-3]) if x[len(x)-3] == ' ' else x))\n",
    "    data['year'] = ['2001' for i in range(data.shape[0])]\n",
    "    \n",
    "    #data['id_city'] = data['City'].apply((lambda x:UniqueID(x)))\n",
    "    \n",
    "\n",
    "    data['Area_Type'] = data['Area_Type'].apply(lambda x: x.capitalize())\n",
    "    data['Age_Group'] = data['Age_Group'].apply(lambda x: x.capitalize())\n",
    "    data['State'] = data['State'].apply(lambda x: x.capitalize())\n",
    "    data['City'] = data['City'].apply(lambda x: x.capitalize())\n",
    "    data['Gender'] = data['Gender'].apply(lambda x: x.capitalize())\n",
    "    data['Type'] = data['Type'].apply(lambda x: x.capitalize())\n",
    "\n",
    "    frames = [All_DATA,data]\n",
    "\n",
    "    All_DATA = pd.concat(frames)\n",
    "\n",
    "All_DATA.to_csv(\"./2001.csv\",index = False)"
   ]
  },
  {
   "cell_type": "code",
   "execution_count": 12,
   "metadata": {},
   "outputs": [],
   "source": []
  },
  {
   "cell_type": "code",
   "execution_count": 68,
   "metadata": {},
   "outputs": [],
   "source": [
    "filelist = list(filter(lambda x: '.csv' in x, os.listdir(\"./2011_keseled/\")))\n",
    "\n",
    "All_DATA = pd.DataFrame()\n",
    "for path in filelist:\n",
    "    \n",
    "    data = pd.read_csv(\"./2011_keseled/\"  + path)\n",
    "\n",
    "    data['City'] = data['City'].apply((lambda x: \"Almora\" if 'Almora' in x else x))\n",
    "\n",
    "    \n",
    "    data['State'] = data['State'].apply((lambda x:str(x[1:len(x)]) if x[0] == ' ' else x))\n",
    "    data['City'] = data['City'].apply((lambda x:str(x[0:len(x)-1]) if x[len(x)-1] == ' ' else x))\n",
    "\n",
    "    data['year'] = ['2011' for i in range(data.shape[0])]\n",
    "    \n",
    "    #data['id_city'] = data['City'].apply((lambda x:UniqueID(x)))\n",
    "    \n",
    "    \n",
    "    data['Area_Type'] = data['Area_Type'].apply(lambda x: x.capitalize())\n",
    "    data['Age_Group'] = data['Age_Group'].apply(lambda x: x.capitalize())\n",
    "    data['State'] = data['State'].apply(lambda x: x.capitalize())\n",
    "    data['City'] = data['City'].apply(lambda x: x.capitalize())\n",
    "    data['Gender'] = data['Gender'].apply(lambda x: x.capitalize())\n",
    "    data['Type'] = data['Type'].apply(lambda x: x.capitalize())\n",
    "\n",
    "\n",
    "    frames = [All_DATA,data]\n",
    "    All_DATA = pd.concat(frames)\n",
    "\n",
    "All_DATA.to_csv(\"./2011.csv\",index = False)"
   ]
  },
  {
   "cell_type": "code",
   "execution_count": 69,
   "metadata": {},
   "outputs": [],
   "source": [
    "data2001 = pd.read_csv(\"./2001.csv\")\n",
    "data2011 = pd.read_csv(\"./2011.csv\")\n",
    "\n",
    "data2011['City'] = data2011['City'].apply((lambda x: \"Andamans\" if (x == 'North  & middle andaman' or x == 'South andaman') else x))\n",
    "data2011['City'] = data2011['City'].apply((lambda x: \"Nellore\" if x == 'Sri potti sriramulu nellore' else x))\n",
    "data2011['City'] = data2011['City'].apply((lambda x: \"Cuddapah\" if x == 'Y.s.r.' else x))\n",
    "data2011['City'] = data2011['City'].apply((lambda x: \"Leh (ladakh)\" if x == 'Leh (ladakh)' else x))\n",
    "data2011['City'] = data2011['City'].apply((lambda x: \"Rangareddi\" if x == 'Rangareddy' else x))\n",
    "\n",
    "\n",
    "\n",
    "data2011['id_city'] = data2011['City'].apply((lambda x:UniqueID(x)))\n",
    "data2001['id_city'] = data2001['City'].apply((lambda x:UniqueID(x)))\n",
    "\n",
    "data2011.to_csv(\"./2011.csv\",index = False)\n",
    "data2001.to_csv(\"./2001.csv\",index = False)"
   ]
  },
  {
   "cell_type": "code",
   "execution_count": 70,
   "metadata": {},
   "outputs": [
    {
     "name": "stdout",
     "output_type": "stream",
     "text": "589\n542\nMarigaon\nSibsagar\nNorth cachar hills\nKawardha\nKanker\nDantewada\nCentral \nSouth \nPorbandar \nNarmada \nLeh (ladakh)\nRajauri\nHazaribag\nPakaur\nWest nimar\nEast nimar\nMumbai (suburban)\nRi bhoi \nPondicherry\nNawanshahr\nNamakkal\nKarur \nDhalai \nHathras\nBarabanki\nMaharajganj\nSant ravidas nagar\nMedinipur\nSouth  twenty four parganas\n"
    }
   ],
   "source": [
    "prr = list(data2011['City'].unique())\n",
    "print(len(prr))\n",
    "print(len(list(data2001['City'].unique())))\n",
    "\n",
    "for City in list(data2001['City'].unique()):\n",
    "    if City not in prr:\n",
    "        print(City)"
   ]
  },
  {
   "cell_type": "code",
   "execution_count": 28,
   "metadata": {},
   "outputs": [
    {
     "name": "stdout",
     "output_type": "stream",
     "text": "['State_Code' 'District_Code' 'Area_Type' 'Age_Group' 'State' 'City'\n 'Gender' 'Type' 'Rate' 'year' 'id_city']\n['State_Code' 'District_Code' 'Area_Type' 'Age_Group' 'State' 'City'\n 'Gender' 'Type' 'Rate' 'year' 'id_city']\n"
    }
   ],
   "source": [
    "#merging two files\n",
    "\n",
    "DATA= pd.DataFrame()\n",
    "\n",
    "data1 = pd.read_csv(\"./2001.csv\")\n",
    "data2 = pd.read_csv(\"./2011.csv\")\n",
    "\n",
    "frames = [data1,data2]\n",
    "\n",
    "DATA = pd.concat(frames)\n",
    "\n",
    "print(data1.columns.values)\n",
    "print(data2.columns.values)\n",
    "\n",
    "DATA.to_csv(\"./Disability.csv\",index = False)"
   ]
  },
  {
   "cell_type": "code",
   "execution_count": null,
   "metadata": {},
   "outputs": [],
   "source": []
  },
  {
   "cell_type": "code",
   "execution_count": 22,
   "metadata": {},
   "outputs": [],
   "source": [
    "def UniqueID(name):\n",
    "    Alpha = list(string.ascii_letters)\n",
    "    Alpha = Alpha + list(string.punctuation)\n",
    "    Alpha.append(' ')\n",
    "\n",
    "    code = \"\"\n",
    "    for s in name:\n",
    "        code = code + str(Alpha.index(s))\n",
    "    \n",
    "    return code"
   ]
  },
  {
   "cell_type": "code",
   "execution_count": 20,
   "metadata": {},
   "outputs": [
    {
     "name": "stdout",
     "output_type": "stream",
     "text": "59\n"
    },
    {
     "data": {
      "text/plain": "'20210'"
     },
     "execution_count": 20,
     "metadata": {},
     "output_type": "execute_result"
    }
   ],
   "source": [
    "UniqueID('cava')"
   ]
  },
  {
   "cell_type": "code",
   "execution_count": 29,
   "metadata": {},
   "outputs": [
    {
     "data": {
      "text/plain": "'20210'"
     },
     "execution_count": 29,
     "metadata": {},
     "output_type": "execute_result"
    }
   ],
   "source": [
    "UniqueID('cava')"
   ]
  },
  {
   "cell_type": "code",
   "execution_count": null,
   "metadata": {},
   "outputs": [],
   "source": []
  }
 ],
 "metadata": {
  "kernelspec": {
   "display_name": "Python 3",
   "language": "python",
   "name": "python3"
  },
  "language_info": {
   "codemirror_mode": {
    "name": "ipython",
    "version": 3
   },
   "file_extension": ".py",
   "mimetype": "text/x-python",
   "name": "python",
   "nbconvert_exporter": "python",
   "pygments_lexer": "ipython3",
   "version": "3.7.3-final"
  }
 },
 "nbformat": 4,
 "nbformat_minor": 4
}