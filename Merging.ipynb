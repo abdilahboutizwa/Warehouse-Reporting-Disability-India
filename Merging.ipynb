{
 "cells": [
  {
   "cell_type": "code",
   "execution_count": 1,
   "metadata": {},
   "outputs": [],
   "source": [
    "from pandas import DataFrame, read_csv\n",
    "import pandas as pd\n",
    "import os\n",
    "import numpy as np\n"
   ]
  },
  {
   "cell_type": "code",
   "execution_count": 19,
   "metadata": {},
   "outputs": [],
   "source": [
    "filelist = list(filter(lambda x: '.csv' in x, os.listdir(\"./2001_keseled/\")))\n",
    "\n",
    "All_DATA = pd.DataFrame()\n",
    "for path in filelist:\n",
    "    \n",
    "    data = pd.read_csv(\"./2001_keseled/\"  + path)\n",
    "\n",
    "    data['City'] = data['City'].apply((lambda x:str(x[0:len(x)-3]) if '*' in x else x))\n",
    "    data['City'] = data['City'].apply((lambda x:str(x[1:len(x)]) if x[0] == ' ' else x))\n",
    "    \n",
    "    data['State'] = data['State'].apply((lambda x:str(x[1:len(x)]) if x[0] == ' ' else x))\n",
    "    data['year'] = ['2001' for i in range(data.shape[0])]\n",
    "    \n",
    "    data['id_city'] = data['State_Code'].astype(str) + data['District_Code'].astype(str)\n",
    "    \n",
    "    frames = [All_DATA,data]\n",
    "    All_DATA = pd.concat(frames)\n",
    "\n",
    "All_DATA.to_csv(\"./2001.csv\",index = False)"
   ]
  },
  {
   "cell_type": "code",
   "execution_count": null,
   "metadata": {},
   "outputs": [],
   "source": []
  },
  {
   "cell_type": "code",
   "execution_count": 21,
   "metadata": {},
   "outputs": [
    {
     "name": "stdout",
     "output_type": "stream",
     "text": "588\n['Adilabad' 'Agra' 'Ahmadabad' 'Ahmadnagar' 'Aizawl' 'Ajmer' 'Akola'\n 'Alappuzha' 'Aligarh' 'Allahabad' 'Almora' 'Alwar' 'Ambala'\n 'Ambedkar Naga' 'Amravati' 'Amreli' 'Amritsar' 'Anand' 'Anantapur'\n 'Anantnag' 'Andamans' 'Anugul' 'Araria' 'Ariyalur' 'Auraiy' 'Aurangabad'\n 'Azamgarh' 'Badgam' 'Bagalko' 'Bageshwar' 'Baghpa' 'Bahraich' 'Balaghat'\n 'Balangir' 'Baleshwar' 'Ballia' 'Balrampu' 'Banas Kantha' 'Banda'\n 'Bangalore' 'Bangalore Rural' 'Bank' 'Bankura' 'Banswara' 'Bara'\n 'Barabanki' 'Baramula' 'Barddhaman' 'Bareilly' 'Bargarh' 'Barmer'\n 'Barpeta' 'Barwan' 'Bastar' 'Basti' 'Bathinda' 'Baudh' 'Begusarai'\n 'Belgaum' 'Bellary' 'Betul' 'Bhadrak' 'Bhagalpur' 'Bhandara' 'Bharatpur'\n 'Bharuch' 'Bhavnagar' 'Bhilwara' 'Bhind' 'Bhiwani' 'Bhojpur' 'Bhopal'\n 'Bid' 'Bidar' 'Bijapur' 'Bijnor' 'Bikaner' 'Bilaspur' 'Birbhum'\n 'Bishnupur' 'Bokar' 'Bongaigaon' 'Budaun' 'Bulandshahr' 'Buldana' 'Bundi'\n 'Buxa' 'Cachar' 'Central' 'Chamarajanag' 'Chamba' 'Chamoli' 'Champawat'\n 'Champha' 'Chandaul' 'Chandel' 'Chandigarh' 'Chandrapur' 'Changlang'\n 'Chatr' 'Chennai' 'Chhatarpur' 'Chhindwara' 'Chikmagalur' 'Chitradurga'\n 'Chitrakoo' 'Chittaurgarh' 'Chittoor' 'Churachandpur' 'Churu'\n 'Coimbatore' 'Cuddalore' 'Cuddapah' 'Cuttack' 'Dadra & Nagar Haveli'\n 'Dakshin Dinajpu' 'Dakshina Kannada' 'Daman' 'Damoh' 'Dantewa'\n 'Darbhanga' 'Darjiling' 'Darrang' 'Datia' 'Daus' 'Davanage' 'Debagarh'\n 'Dehradun' 'Deoghar' 'Deoria' 'Dewas' 'Dhalai' 'Dhamtar' 'Dhanbad' 'Dhar'\n 'Dharmapuri' 'Dharwad' 'Dhaulpur' 'Dhemaji' 'Dhenkanal' 'Dhubri' 'Dhule'\n 'Dibang Valley' 'Dibrugarh' 'Dimapu' 'Dindigul' 'Dindor' 'Diu' 'Doda'\n 'Dohad' 'Dumka' 'Dungarpur' 'Durg' 'East' 'East ' 'East Garo Hills'\n 'East Godavari' 'East Kameng' 'East Khasi Hills' 'East Nimar'\n 'East Siang' 'Ernakulam' 'Erode' 'Etah' 'Etawah' 'Faizabad' 'Faridabad'\n 'Faridkot' 'Farrukhabad' 'Fatehaba' 'Fatehgarh Sahi' 'Fatehpur'\n 'Firozabad' 'Firozpur' 'Gada' 'Gadchiroli' 'Gajapati' 'Gandhinagar'\n 'Ganganagar' 'Ganjam' 'Garhw' 'Garhwal' 'Gautam Buddha Naga' 'Gaya'\n 'Ghaziabad' 'Ghazipur' 'Giridih' 'Goalpara' 'Godda' 'Golaghat' 'Gonda'\n 'Gondiy' 'Gopalganj' 'Gorakhpur' 'Gulbarga' 'Gumla' 'Guna' 'Guntur'\n 'Gurdaspur' 'Gurgaon' 'Gwalior' 'Hailakandi' 'Hamirpur' 'Hanumangar'\n 'Haora' 'Hard' 'Hardoi' 'Hardwar' 'Hassan' 'Hathra' 'Haver' 'Hazaribag'\n 'Hingol' 'Hisar' 'Hoshangabad' 'Hoshiarpur' 'Hugli' 'Hyderabad' 'Idukki'\n 'Imphal Eas' 'Imphal West' 'Indore' 'Jabalpur' 'Jagatsinghapur'\n 'Jaintia Hills' 'Jaipur' 'Jaisalmer' 'Jajapur' 'Jalandhar' 'Jalaun'\n 'Jalgaon' 'Jalna' 'Jalor' 'Jalpaiguri' 'Jammu' 'Jamnagar' 'Jamu'\n 'Janjgir - Cham' 'Jashpu' 'Jaunpur' 'Jehanabad' 'Jhabua' 'Jhajja'\n 'Jhalawar' 'Jhansi' 'Jharsuguda' 'Jhunjhunun' 'Jind' 'Jodhpur' 'Jorhat'\n 'Junagadh' 'Jyotiba Phule Naga' 'Kachchh' 'Kaimur (Bhabua' 'Kaithal'\n 'Kalahandi' 'Kamrup' 'Kancheepuram' 'Kandhamal' 'Kangra' 'Kanke' 'Kannau'\n 'Kanniyakumari' 'Kannur' 'Kanpur Dehat' 'Kanpur Nagar' 'Kapurthala'\n 'Karaikal' 'Karaul' 'Karbi Anglong' 'Kargil' 'Karimganj' 'Karimnagar'\n 'Karnal' 'Karur' 'Kasaragod' 'Kathua' 'Katihar' 'Katn' 'Kaushamb'\n 'Kawardh' 'Kendrapar' 'Kendujhar' 'Khagaria' 'Khammam' 'Kheda' 'Kheri'\n 'Khordha' 'Kinnaur' 'Kishanganj' 'Koch Bihar' 'Kodagu' 'Kodarm' 'Kohima'\n 'Kokrajhar' 'Kolar' 'Kolasi' 'Kolhapur' 'Kolkata' 'Kollam' 'Koppa'\n 'Koraput' 'Korb' 'Koriy' 'Kota' 'Kottayam' 'Kozhikode' 'Krishna' 'Kullu'\n 'Kupwara' 'Kurnool' 'Kurukshetra' 'Kushinaga' 'Lahul & Spiti' 'Lakhimpur'\n 'Lakhisara' 'Lakshadweep' 'Lalitpur' 'Latur' 'Lawngtlai' 'Leh (Ladakh)'\n 'Lohardaga' 'Lohit' 'Lower Subansiri' 'Lucknow' 'Ludhiana' 'Lunglei'\n 'Madhepura' 'Madhubani' 'Madurai' 'Maharajganj' 'Mahasamun' 'Mahbubnagar'\n 'Mahe' 'Mahendragarh' 'Mahesana' 'Mahob' 'Mainpuri' 'Malappuram' 'Maldah'\n 'Malkangiri' 'Mami' 'Mandi' 'Mandla' 'Mandsaur' 'Mandya' 'Mans'\n 'Marigaon' 'Mathura' 'Mau' 'Mayurbhanj' 'Medak' 'Medinipur' 'Meerut'\n 'Mirzapur' 'Mog' 'Mokokchung' 'Mon' 'Moradabad' 'Morena' 'Muktsa'\n 'Mumbai' 'Mumbai (Suburban' 'Munger' 'Murshidabad' 'Muzaffarnagar'\n 'Muzaffarpur' 'Mysore' 'Nabarangapur' 'Nadia' 'Nagaon' 'Nagapattinam'\n 'Nagaur' 'Nagpur' 'Nainital' 'Nalanda' 'Nalbari' 'Nalgonda' 'Namakkal '\n 'Nanded' 'Nandurba' 'Narmada' 'Narsimhapur' 'Nashik' 'Navsari' 'Nawada'\n 'Nawanshah' 'Nayagarh' 'Neemuc' 'Nellore' 'New Delhi' 'Nicobars'\n 'Nizamabad' 'North' 'North ' 'North Cachar Hills' 'North East '\n 'North Goa' 'North Tripura' 'North Twenty Four Parganas' 'North West '\n 'Nuapada' 'Osmanabad' 'Pakau' 'Palakkad' 'Palamu' 'Pali' 'Panch Mahals'\n 'Panchkul' 'Panipat' 'Panna' 'Papum Par' 'Parbhani' 'Pashchim Champaran'\n 'Pashchimi Singhbhum' 'Patan' 'Pathanamthitta' 'Patiala' 'Patna'\n 'Perambalur' 'Phek' 'Pilibhit' 'Pithoragarh' 'Pondicherry' 'Porbandar'\n 'Prakasam' 'Pratapgarh' 'Pudukkottai' 'Pulwama' 'Punch' 'Pune'\n 'Purba Champaran' 'Purbi Singhbhum' 'Puri' 'Purnia' 'Puruliya'\n 'Rae Bareli' 'Raichur' 'Raigarh' 'Raipur' 'Raisen' 'Rajauri' 'Rajgarh'\n 'Rajkot' 'Rajnandgaon' 'Rajsaman' 'Ramanathapuram' 'Rampur' 'Ranchi'\n 'Rangareddi' 'Ratlam' 'Ratnagiri' 'Rayagada' 'Rewa' 'Rewari' 'Ri Bhoi'\n 'Rohtak' 'Rohtas' 'Rudrapraya' 'Rupnagar' 'Sabar Kantha' 'Sagar'\n 'Saharanpur' 'Saharsa' 'Sahibganj' 'Saih' 'Salem' 'Samastipur'\n 'Sambalpur' 'Sangli' 'Sangrur' 'Sant Kabir Naga' 'Sant Ravidas Naga'\n 'Saran' 'Satara' 'Satna' 'Sawai Madhopur' 'Sehore' 'Senapati' 'Seoni'\n 'Serchhi' 'Shahdol' 'Shahjahanpur' 'Shajapur' 'Sheikhpur' 'Sheoha'\n 'Sheopu' 'Shimla' 'Shimoga' 'Shivpuri' 'Shrawast' 'Sibsagar'\n 'Siddharthnagar' 'Sidhi' 'Sikar' 'Sindhudurg' 'Sirmaur' 'Sirohi' 'Sirsa'\n 'Sitamarhi' 'Sitapur' 'Sivaganga' 'Siwan' 'Solan' 'Solapur' 'Sonapur'\n 'Sonbhadra' 'Sonipat' 'Sonitpur' 'South' 'South  Twenty Four Parganas'\n 'South Garo Hill' 'South Goa' 'South Tripura' 'South West ' 'Srikakulam'\n 'Srinagar' 'Sultanpur' 'Sundargarh' 'Supau' 'Surat' 'Surendranagar'\n 'Surguja' 'Tamenglong' 'Tawang' 'Tehri Garhwal' 'Thane' 'Thanjavur'\n 'The Dangs' 'The Nilgiris' 'Theni' 'Thiruvallur' 'Thiruvananthapuram'\n 'Thiruvarur' 'Thoothukkudi' 'Thoubal' 'Thrissur' 'Tikamgarh' 'Tinsukia'\n 'Tirap' 'Tiruchirappalli' 'Tirunelveli' 'Tiruvannamalai' 'Tonk'\n 'Tuensang' 'Tumkur' 'Udaipur' 'Udham Singh Naga' 'Udhampur' 'Udup'\n 'Ujjain' 'Ukhrul' 'Umari' 'Una' 'Unnao' 'Upper Sian' 'Upper Subansiri'\n 'Uttar Dinajpur' 'Uttara Kannada' 'Uttarkashi' 'Vadodara' 'Vaishali'\n 'Valsad' 'Varanasi' 'Vellore' 'Vidisha' 'Viluppuram' 'Virudhunagar'\n 'Visakhapatnam' 'Vizianagaram' 'Warangal' 'Wardha' 'Washi' 'Wayanad'\n 'West' 'West ' 'West Garo Hills' 'West Godavari' 'West Kameng'\n 'West Khasi Hills' 'West Nimar' 'West Siang' 'West Tripura' 'Wokha'\n 'Yamunanagar' 'Yanam' 'Yavatmal' 'Zunheboto']\n"
    }
   ],
   "source": [
    "data = pd.read_csv(\"./2001.csv\")\n",
    "\n",
    "city = data.City.unique()\n",
    "print(len(city))\n",
    "print(np.sort(city))"
   ]
  },
  {
   "cell_type": "code",
   "execution_count": 22,
   "metadata": {},
   "outputs": [],
   "source": [
    "filelist = list(filter(lambda x: '.csv' in x, os.listdir(\"./2011_keseled/\")))\n",
    "\n",
    "All_DATA = pd.DataFrame()\n",
    "for path in filelist:\n",
    "    \n",
    "    data = pd.read_csv(\"./2011_keseled/\"  + path)\n",
    "    data['City'] = data['City'].apply((lambda x:str(x[0:len(x)-3]) if '*' in x else x))\n",
    "    data['City'] = data['City'].apply((lambda x:str(x[1:len(x)]) if x[0] == ' ' else x))\n",
    "    \n",
    "    data['State'] = data['State'].apply((lambda x:str(x[1:len(x)]) if x[0] == ' ' else x))\n",
    "    data['year'] = ['2011' for i in range(data.shape[0])]\n",
    "    \n",
    "    data['id_city'] = data['State_Code'].astype(str) + data['District_Code'].astype(str)\n",
    "    \n",
    "    frames = [All_DATA,data]\n",
    "    All_DATA = pd.concat(frames)\n",
    "\n",
    "All_DATA.to_csv(\"./2011.csv\",index = False)"
   ]
  },
  {
   "cell_type": "code",
   "execution_count": 75,
   "metadata": {},
   "outputs": [
    {
     "name": "stdout",
     "output_type": "stream",
     "text": [
      "34\n",
      "['ANDAMAN & NICOBAR ISLANDS' 'ANDHRA PRADESH' 'ARUNACHAL PRADESH' 'ASSAM'\n",
      " 'BIHAR' 'CHHATTISGARH' 'DADRA & NAGAR HAVELI' 'DAMAN & DIU' 'GOA'\n",
      " 'GUJARAT' 'HARYANA' 'HIMACHAL PRADESH' 'JAMMU & KASHMIR' 'JHARKHAND'\n",
      " 'KARNATAKA' 'KERALA' 'LAKSHADWEEP' 'MADHYA PRADESH' 'MAHARASHTRA'\n",
      " 'MANIPUR' 'MEGHALAYA' 'MIZORAM' 'NAGALAND' 'NCT OF DELHI' 'ODISHA'\n",
      " 'PUDUCHERRY' 'PUNJAB' 'RAJASTHAN' 'SIKKIM' 'TAMIL NADU' 'TRIPURA'\n",
      " 'UTTAR PRADESH' 'UTTARAKHAND' 'WEST BENGAL']\n"
     ]
    }
   ],
   "source": [
    "data = pd.read_csv(\"./2011.csv\")\n",
    "\n",
    "state = data.State.unique()\n",
    "print(len(state))\n",
    "print(np.sort(state))"
   ]
  },
  {
   "cell_type": "code",
   "execution_count": null,
   "metadata": {},
   "outputs": [],
   "source": []
  }
 ],
 "metadata": {
  "kernelspec": {
   "display_name": "Python 3",
   "language": "python",
   "name": "python3"
  },
  "language_info": {
   "codemirror_mode": {
    "name": "ipython",
    "version": 3
   },
   "file_extension": ".py",
   "mimetype": "text/x-python",
   "name": "python",
   "nbconvert_exporter": "python",
   "pygments_lexer": "ipython3",
   "version": "3.7.3"
  }
 },
 "nbformat": 4,
 "nbformat_minor": 4
}