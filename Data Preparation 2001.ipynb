{
 "cells": [
  {
   "cell_type": "code",
   "execution_count": 1,
   "metadata": {},
   "outputs": [],
   "source": [
    "from pandas import DataFrame, read_csv\n",
    "import pandas as pd\n",
    "import os"
   ]
  },
  {
   "cell_type": "code",
   "execution_count": 4,
   "metadata": {},
   "outputs": [],
   "source": [
    "def load_del40_deltot_save(filepath):\n",
    "    '''\n",
    "    This function loads files deletes all totals and saves files in new folder named cleaned\n",
    "    files named with state name\n",
    "    '''\n",
    "    rawdata = pd.read_excel(filepath)\n",
    "    \n",
    "    State_Name = rawdata['Area Name'][1]\n",
    "    State_Name = State_Name[0:len(State_Name)-4]\n",
    "    dropped40rows = rawdata[41:]\n",
    "    DroppedTtl_Ru_Ur = dropped40rows.drop(dropped40rows[dropped40rows[\"Total/ Rural/ Urban\"] == \"Total\"].index)\n",
    "    droppedTotals = DroppedTtl_Ru_Ur.drop(DroppedTtl_Ru_Ur[DroppedTtl_Ru_Ur[\"Age-group\"] == \"Total\"].index)\n",
    "        \n",
    "    \n",
    "    df = droppedTotals\n",
    "    \n",
    "    df.drop('Total disabled population - Persons', axis=1, inplace=True)\n",
    "    df.drop('Total disabled population - Males', axis=1, inplace=True)\n",
    "    df.drop('Total disabled population - Females', axis=1, inplace=True)\n",
    "    df.drop('Type of disablity - In seeing - Persons', axis=1, inplace=True)\n",
    "    df.drop('Type of disablity - In speech - Persons', axis=1, inplace=True)\n",
    "    df.drop('Type of disablity - In hearing - Persons', axis=1, inplace=True)\n",
    "    df.drop('Type of disablity - In movement - Persons', axis=1, inplace=True)\n",
    "    df.drop('Type of disablity - Mental - Persons', axis=1, inplace=True)\n",
    "    \n",
    "   \n",
    "    savepath = r\"./2001_Cleaned/\"+ State_Name + \".csv\"\n",
    "    df.to_csv (savepath,index = False)"
   ]
  },
  {
   "cell_type": "code",
   "execution_count": 6,
   "metadata": {},
   "outputs": [
    {
     "name": "stdout",
     "output_type": "stream",
     "text": "DDWC-010020.xls\nDDWC-020020.xls\nDDWC-030020.xls\nDDWC-060020.xls\nDDWC-070020.xls\nDDWC-080020.xls\nDDWC-090020.xls\nDDWC-100020.xls\nDDWC-110020.xls\nDDWC-120020.xls\nDDWC-130020.xls\nDDWC-140020.xls\nDDWC-150020.xls\nDDWC-160020.xls\nDDWC-170020.xls\nDDWC-180020.xls\nDDWC-190020.xls\nDDWC-200020.xls\nDDWC-220020.xls\nDDWC-230020.xls\nDDWC-240020.xls\nDDWC-250020.xls\nDDWC-260020.xls\nDDWC-270020.xls\nDDWC-280020.xls\nDDWC-290020.xls\nDDWC-300020.xls\nDDWC-310020.xls\nDDWC-320020.xls\nDDWC-330020.xls\nDDWC-340020.xls\nDDWC-350020.xls\n"
    }
   ],
   "source": [
    "import os\n",
    "filelist = os.listdir(\"./2001/\")\n",
    "\n",
    "for path in filelist:\n",
    "    print(path)\n",
    "    load_del40_deltot_save(\"./2001/\" + path)"
   ]
  },
  {
   "cell_type": "code",
   "execution_count": null,
   "metadata": {},
   "outputs": [],
   "source": []
  },
  {
   "cell_type": "code",
   "execution_count": 26,
   "metadata": {},
   "outputs": [],
   "source": [
    "def loadcleaned_savemksel(filepath):\n",
    "    \n",
    "    rawdata = pd.read_csv(filepath)\n",
    "    file_name = os.path.basename(filepath) \n",
    "    \n",
    "    RAW = rawdata[['State Code', 'District Code', 'Area Name','Total/ Rural/ Urban', 'Age-group']]\n",
    "    State_Name = rawdata['Area Name'][1]\n",
    "    State_Name = State_Name[0:len(State_Name)-4]\n",
    "    \n",
    "    \n",
    "    #Adjusting State Name\n",
    "    for row in RAW.iterrows():\n",
    "        RAW['State'] = file_name[7:len(file_name)-4]\n",
    "    \n",
    "    #Adjusting the City Name\n",
    "    RAW['City'] = RAW['Area Name'].apply((lambda x:str(x[11:len(x)-5]) if '*' in x else str(x[11:len(x)-3])))\n",
    "\n",
    "    RAW.drop('Area Name', axis=1, inplace=True)    \n",
    "    \n",
    "    #Adjusting City Name Name\n",
    "    #for row in RAW.iterrows():\n",
    "     #   RAW['City'] = str(row[\"Area Name\"])[10:len(row['Area Name'])-4]\n",
    "        \n",
    "    '''\n",
    "        This cell input the RAW data that doesn't change & df['Type of disablity - In seeing - Females'] \n",
    "        Output DataFrame Disabled_Female_Seeing\n",
    "    '''\n",
    "    DATA = pd.DataFrame()\n",
    "\n",
    "    ColumnList = ['Type of disablity - In seeing - Males'\n",
    "                  ,'Type of disablity - In seeing - Females'\n",
    "                  , 'Type of disablity - In speech - Males'\n",
    "                  ,'Type of disablity - In speech - Females'\n",
    "                  ,'Type of disablity - In hearing - Males'\n",
    "                  ,'Type of disablity - In hearing - Females'\n",
    "                  ,'Type of disablity - In movement - Males'\n",
    "                  ,'Type of disablity - In movement - Females'\n",
    "                  ,'Type of disablity - Mental - Males'\n",
    "                  ,'Type of disablity - Mental - Females']\n",
    "\n",
    "    for col_name in ColumnList:\n",
    "        #Extracting Gender & Type from column name\n",
    "        l = col_name.split(' - ')\n",
    "        Disability_type = l[1]\n",
    "        Gender = l[2]\n",
    "        Gender = Gender[0:len(Gender)-1]\n",
    "        #Extracting Gender & Type from column name\n",
    "\n",
    "\n",
    "        New_Data = RAW.copy()\n",
    "        for row in New_Data.iterrows():\n",
    "            New_Data['Gender'] = Gender\n",
    "            New_Data['Type'] = Disability_type\n",
    "\n",
    "        New_Data['Rate'] = rawdata[col_name]\n",
    "\n",
    "        frames = [DATA,New_Data]\n",
    "        DATA = pd.concat(frames)\n",
    "        \n",
    "        savepath = r\"./2001_keseled/\" + file_name\n",
    "        \n",
    "        SAT = DATA.rename(columns={\"State Code\": \"State_Code\",\"District Code\": \"District_Code\",\"Total/ Rural/ Urban\": \"Area_Type\", \"Age-group\": \"Age_Group\"})\n",
    "        SAT.to_csv (savepath,index = False)"
   ]
  },
  {
   "cell_type": "code",
   "execution_count": 27,
   "metadata": {},
   "outputs": [
    {
     "name": "stdout",
     "output_type": "stream",
     "text": "State - ANDAMAN & NICOBAR ISLANDS.csv\nC:\\Users\\Hidik\\Anaconda3\\lib\\site-packages\\ipykernel_launcher.py:13: SettingWithCopyWarning: \nA value is trying to be set on a copy of a slice from a DataFrame.\nTry using .loc[row_indexer,col_indexer] = value instead\n\nSee the caveats in the documentation: http://pandas.pydata.org/pandas-docs/stable/indexing.html#indexing-view-versus-copy\n  del sys.path[0]\nC:\\Users\\Hidik\\Anaconda3\\lib\\site-packages\\ipykernel_launcher.py:15: SettingWithCopyWarning: \nA value is trying to be set on a copy of a slice from a DataFrame.\nTry using .loc[row_indexer,col_indexer] = value instead\n\nSee the caveats in the documentation: http://pandas.pydata.org/pandas-docs/stable/indexing.html#indexing-view-versus-copy\n  from ipykernel import kernelapp as app\nC:\\Users\\Hidik\\Anaconda3\\lib\\site-packages\\pandas\\core\\frame.py:3940: SettingWithCopyWarning: \nA value is trying to be set on a copy of a slice from a DataFrame\n\nSee the caveats in the documentation: http://pandas.pydata.org/pandas-docs/stable/indexing.html#indexing-view-versus-copy\n  errors=errors)\nState - ANDHRA PRADESH.csv\nState - ARUNACHAL PRADESH.csv\nState - ASSAM.csv\nState - BIHAR.csv\nState - CHHATTISGARH.csv\nState - DADRA & NAGAR HAVELI.csv\nState - DAMAN & DIU.csv\nState - DELHI.csv\nState - GOA.csv\nState - GUJARAT.csv\nState - HARYANA.csv\nState - HIMACHAL PRADESH.csv\nState - JAMMU & KASHMIR.csv\nState - JHARKHAND.csv\nState - KARNATAKA.csv\nState - KERALA.csv\nState - LAKSHADWEEP.csv\nState - MADHYA PRADESH.csv\nState - MAHARASHTRA.csv\nState - MANIPUR.csv\nState - MEGHALAYA.csv\nState - MIZORAM.csv\nState - NAGALAND.csv\nState - PONDICHERRY.csv\nState - PUNJAB.csv\nState - RAJASTHAN.csv\nState - SIKKIM.csv\nState - TAMIL NADU.csv\nState - TRIPURA.csv\nState - UTTAR PRADESH.csv\nState - WEST BENGAL.csv\n"
    }
   ],
   "source": [
    "filelist = list(filter(lambda x: '.csv' in x, os.listdir(\"./2001_Cleaned/\")))\n",
    "\n",
    "for path in filelist:\n",
    "    print(path)\n",
    "    loadcleaned_savemksel(\"./2001_Cleaned/\" + path)"
   ]
  },
  {
   "cell_type": "code",
   "execution_count": null,
   "metadata": {},
   "outputs": [],
   "source": []
  }
 ],
 "metadata": {
  "kernelspec": {
   "display_name": "Python 3",
   "language": "python",
   "name": "python3"
  },
  "language_info": {
   "codemirror_mode": {
    "name": "ipython",
    "version": 3
   },
   "file_extension": ".py",
   "mimetype": "text/x-python",
   "name": "python",
   "nbconvert_exporter": "python",
   "pygments_lexer": "ipython3",
   "version": "3.7.3-final"
  }
 },
 "nbformat": 4,
 "nbformat_minor": 4
}